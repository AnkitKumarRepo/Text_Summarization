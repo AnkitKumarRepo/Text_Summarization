{
  "nbformat": 4,
  "nbformat_minor": 0,
  "metadata": {
    "colab": {
      "provenance": []
    },
    "kernelspec": {
      "name": "python3",
      "display_name": "Python 3"
    },
    "language_info": {
      "name": "python"
    }
  },
  "cells": [
    {
      "cell_type": "markdown",
      "source": [
        "\n",
        "\n",
        "\n",
        "**NLP__HUGGING_FACE**"
      ],
      "metadata": {
        "id": "Sex_FXdl24ke"
      }
    },
    {
      "cell_type": "markdown",
      "source": [
        "# Web Scrapping"
      ],
      "metadata": {
        "id": "Qa526Bro3hUM"
      }
    },
    {
      "cell_type": "code",
      "execution_count": null,
      "metadata": {
        "colab": {
          "base_uri": "https://localhost:8080/"
        },
        "id": "XX54NOEPkQGP",
        "outputId": "913ccd6a-9b9b-448e-b8bd-52351163bb13"
      },
      "outputs": [
        {
          "output_type": "stream",
          "name": "stderr",
          "text": [
            "[nltk_data] Downloading package punkt to /root/nltk_data...\n",
            "[nltk_data]   Package punkt is already up-to-date!\n"
          ]
        }
      ],
      "source": [
        "import nltk\n",
        "nltk.download('punkt')\n",
        "import nltk\n",
        "from nltk.corpus import stopwords\n",
        "\n",
        "from bs4 import BeautifulSoup\n",
        "from urllib.request import urlopen\n",
        "url = \"https://www.livemint.com/economy/budget-2024-25-key-highlights-live-updates-interim-budget-agriculture-infra-fiscal-deficit-nirmala-sitharaman-11706695416199.html#:~:text=Budget%202024%20Key%20Highlights%20LIVE%3A%20FM%20Nirmala%20Sitharaman%20sets%20deficit,for%20the%20upcoming%20financial%20year.\"\n",
        "page = urlopen(url)\n",
        "html = page.read().decode(\"utf-8\")\n",
        "soup = BeautifulSoup(html, \"html.parser\")\n",
        "text = '\\n'.join(line.strip() for line in soup.stripped_strings)\n",
        "text =\"\"\n",
        "for paragraph in soup.find_all('p'):\n",
        "    text +=paragraph.text\n"
      ]
    },
    {
      "cell_type": "code",
      "source": [
        "text"
      ],
      "metadata": {
        "colab": {
          "base_uri": "https://localhost:8080/",
          "height": 105
        },
        "id": "13y_XSXMlHpB",
        "outputId": "abfeb3b7-d082-4cc4-d68b-5d25d8c593c5"
      },
      "execution_count": null,
      "outputs": [
        {
          "output_type": "execute_result",
          "data": {
            "text/plain": [
              "'Budget 2024 Key Highlights LIVE Updates: Union Finance Minister Nirmala Sitharaman presented her sixth Budget on February 1. This was an interim budget ahead of the general elections later this year. The Interim Budget 2024 was focused on youth and women empowerment, while maintaining fiscal consolidation and continuing capex. FM Sitharaman lowered down FY25 fiscal deficit target to 5.1% of the GDP. There were no changes made to the direct tax and indirect tax rates. Read the latest news on\\xa0Budget 2024 with our live coverage on the\\xa0Income Tax Slab,\\xa0Impact on Share Market, Budget Key Highlights, Corporate Reactions, and\\xa0Funny Memes.10 key takeaways from FM Sitharaman’s post-budget presser1] Finance Minister Nirmala Sitharaman stressed on 5 ‘Disha Nirdashak’ baatein: Social justice as an effective governance model; Focus on the poor, youth, women, and the Annadata (farmers); Focus on infrastructure; Use of technology to improve productivity and High power committee for challenges arising from demographic challenges.2] India has had three consecutive years of 7% GDP growth and is the fastest growing economy in G20.3] GDP is Government, Development and Performance. We have delivered on Development and have better managed the economy. We are bringing down the fiscal deficit despite very challenging times.4] Capex from the government will continue, it is important to continue it, FM said.5] India, Middle East, European Corridor (IMEC) project to be taken forward despite disturbances in Red Sea.6] The withdrawal of 1.1 crore outstanding small direct tax demands for certain years will cost less than ₹3,500 crore to the exchequer, said Revenue Secretary Sanjay Malhotra.7] No extension of lower tax rate to new manufacturing units coming into place after March 2024, FM clarified.8] Do not have a fixed target for disinvestment in FY25, said DIPAM Secretary Tuhin Kanta Pandey.9] We are not only aligning with the fiscal consolidation path given earlier, but we are also bettering it, Finance Minister Nirmala Sitharaman said in her message to credit rating agencies10] The relevance of the target to reduce the Centre’s debt-to-GDP ratio to 40% was set before COVID-19 period and now has to be examined, Finance Secretary TV Somanathan said.Updates to this blog has ended. Keep an eye on Livemint for more newsUpdates to this blog has ended. Keep an eye on Livemint for more newsThe 11 per cent increase in the capital expenditure by the government will definitely accelerate growth and prospective buyers\\' outlook towards the real estate sector is expected to be on a continued upward trajectory as the government has stabilized the income tax slab, Sanjay Sharma, Director of SKA Group, said.\"The government\\'s stance regarding Namo Bharat is very positive, which would directly benefit Noida, Greater Noida and other cities. Along with this, the expansion of the UDAN scheme in Tier 2 and 3 will accelerate the development of these regions as well,\" Sharma said.The 11 per cent increase in the capital expenditure by the government will definitely accelerate growth and prospective buyers\\' outlook towards the real estate sector is expected to be on a continued upward trajectory as the government has stabilized the income tax slab, Sanjay Sharma, Director of SKA Group, said.\"The government\\'s stance regarding Namo Bharat is very positive, which would directly benefit Noida, Greater Noida and other cities. Along with this, the expansion of the UDAN scheme in Tier 2 and 3 will accelerate the development of these regions as well,\" Sharma said.The interim budget 2024 indicated that the government is eager to promote widespread growth with the middle-class housing programme, Himanshu Garg, Director, RG Group, said.\"The government\\'s emphasis on affordable and urban housing is demonstrated by the significant 66 per cent increase in funding, amounting to ₹79,000 crore for the Pradhan Mantri Awas Yojana scheme in FY24,\" Garg added.The interim budget 2024 indicated that the government is eager to promote widespread growth with the middle-class housing programme, Himanshu Garg, Director, RG Group, said.\"The government\\'s emphasis on affordable and urban housing is demonstrated by the significant 66 per cent increase in funding, amounting to ₹79,000 crore for the Pradhan Mantri Awas Yojana scheme in FY24,\" Garg added.“The increase in capex by 11 per cent will surely enhance growth in the market and the plans to promote Namo Bharat will also bring ease in connectivity among various cities, increasing the demand for property investments,\" Vikas Bhasin, Chairman and Managing Director, Saya Group, said.\\xa0\"The advent of metro rail and rapid rail has already been attracting massive investors and the trend is expected to continue over the next few years as well. Commercial real estate\\'s development would stay on the upward trajectory with the positive environment created by these factors,\" he said.“The increase in capex by 11 per cent will surely enhance growth in the market and the plans to promote Namo Bharat will also bring ease in connectivity among various cities, increasing the demand for property investments,\" Vikas Bhasin, Chairman and Managing Director, Saya Group, said.\\xa0\"The advent of metro rail and rapid rail has already been attracting massive investors and the trend is expected to continue over the next few years as well. Commercial real estate\\'s development would stay on the upward trajectory with the positive environment created by these factors,\" he said.Prime Minister Narendra Modi Sunday said the government at the Centre is moving towards making the electricity bill of the households in the country zero.In the budget, the government has announced a huge rooftop solar scheme. Under this scheme, initially, the government will help one crore families to install rooftop solar panels,\" he said. \\xa0 \\xa0 \\xa0 \\xa0 \\xa0 \\xa0 \\xa0 \\xa0 \\xa0 \\xa0 \\xa0 \\xa0 \\xa0 \\xa0 \\xa0 \\xa0 \\xa0 \\xa0 \\xa0 \\xa0 \\xa0 \\xa0 \\xa0 \\xa0 \\xa0 \\xa0 \\xa0 \\xa0 \\xa0 \\xa0 \\xa0 \\xa0 \\xa0 \\xa0 \\xa0\\xa0\"Our goal is to make the life of every citizen comfortable. This focus is clear in our budget. In the budget, the govt has resolved to spend ₹11 lakh crore on infrastructure,\" PM Modi addedPrime Minister Narendra Modi Sunday said the government at the Centre is moving towards making the electricity bill of the households in the country zero.In the budget, the government has announced a huge rooftop solar scheme. Under this scheme, initially, the government will help one crore families to install rooftop solar panels,\" he said. \\xa0 \\xa0 \\xa0 \\xa0 \\xa0 \\xa0 \\xa0 \\xa0 \\xa0 \\xa0 \\xa0 \\xa0 \\xa0 \\xa0 \\xa0 \\xa0 \\xa0 \\xa0 \\xa0 \\xa0 \\xa0 \\xa0 \\xa0 \\xa0 \\xa0 \\xa0 \\xa0 \\xa0 \\xa0 \\xa0 \\xa0 \\xa0 \\xa0 \\xa0 \\xa0\\xa0\"Our goal is to make the life of every citizen comfortable. This focus is clear in our budget. In the budget, the govt has resolved to spend ₹11 lakh crore on infrastructure,\" PM Modi added“Revision of the fiscal deficit, increased tax receipts, doubling of the GST tax base, and other indicators of robust economic growth were all highlighted in the union budget and real estate will benefit from a strong economy,\" Dinesh Gupta, CREDAI Western Uttar Pradesh Secretary, said\"It is a commendable step that the Centre will develop better policies and incentives to support mid-income housing. An additional aspect to consider is the ongoing development of infrastructure through proactive measures.\\xa0Plans to construct additional airports, train lines, metro routes, EV facilities, etc have been announced. Naturally, this will result in increased demand for real estate in western UP, including Noida,\" Gupta added.“Revision of the fiscal deficit, increased tax receipts, doubling of the GST tax base, and other indicators of robust economic growth were all highlighted in the union budget and real estate will benefit from a strong economy,\" Dinesh Gupta, CREDAI Western Uttar Pradesh Secretary, said\"It is a commendable step that the Centre will develop better policies and incentives to support mid-income housing. An additional aspect to consider is the ongoing development of infrastructure through proactive measures.\\xa0Plans to construct additional airports, train lines, metro routes, EV facilities, etc have been announced. Naturally, this will result in increased demand for real estate in western UP, including Noida,\" Gupta added.The Modi Government has given strength to the four pillars of Viksit Bharat which is poor section of the society, women, farmers and youth during the interim budget 2024.\"These are the four strata of society which have huge potential for growth and development. Today the financial minister laid down a policy to harness the potential of these four drivers of development for the future. And I think with this, we will be the largest economy by 2047,\" Dr BS Ghuman, former Vice-Chancellor of Punjabi University Patiala, saidThe Modi Government has given strength to the four pillars of Viksit Bharat which is poor section of the society, women, farmers and youth during the interim budget 2024.\"These are the four strata of society which have huge potential for growth and development. Today the financial minister laid down a policy to harness the potential of these four drivers of development for the future. And I think with this, we will be the largest economy by 2047,\" Dr BS Ghuman, former Vice-Chancellor of Punjabi University Patiala, said“The country\\'s new budget has come just two days ago. This budget further strengthens the policy following which 25 crore people of the country have come out of poverty in the last 10 years. The budget announcement is a guarantee of empowering the poor. Be it our youth, women, farmers, fishermen, this budget guarantees everyone\\'s development. Guarantee of fulfilling guarantees is the meaning of Modi guarantee,\" Prime Minister Modi said on Saturday“The country\\'s new budget has come just two days ago. This budget further strengthens the policy following which 25 crore people of the country have come out of poverty in the last 10 years. The budget announcement is a guarantee of empowering the poor. Be it our youth, women, farmers, fishermen, this budget guarantees everyone\\'s development. Guarantee of fulfilling guarantees is the meaning of Modi guarantee,\" Prime Minister Modi said on SaturdayRevenue Secretary Sanjay Malhotra said the special focus on capital expenditure and fiscal prudence in the interim Budget 2024 will enhance employment opportunities and give a boost to the economy and incomes, and highlighted that the budget aims to empower people.\"The budget focuses on prioritising good education, healthcare and skill training for the people so that they can contribute to the progress of the economy,\" Malhotra said.Revenue Secretary Sanjay Malhotra said the special focus on capital expenditure and fiscal prudence in the interim Budget 2024 will enhance employment opportunities and give a boost to the economy and incomes, and highlighted that the budget aims to empower people.\"The budget focuses on prioritising good education, healthcare and skill training for the people so that they can contribute to the progress of the economy,\" Malhotra said.Emphasising ‘certainty and stability’ in the tax structure, Revenue Secretary Sanjay Malhotra has said that any change in customs duty can be looked at in the full budget to be presented after the Lok Sabha polls and that the government is aiming ₹1.83 lakh crore GST collection per month next fiscalEmphasising ‘certainty and stability’ in the tax structure, Revenue Secretary Sanjay Malhotra has said that any change in customs duty can be looked at in the full budget to be presented after the Lok Sabha polls and that the government is aiming ₹1.83 lakh crore GST collection per month next fiscalFounder and CEO at University Living, Saurabh Arora said, “ In this era where new-age technologies and data are transforming lives and businesses, the budget recognizes their role in creating economic opportunities and providing high-quality services at affordable prices, particularly for those at the \\'bottom of the pyramid.\\' The expanding global opportunities for India are being driven by innovative solutions and entrepreneurial spirit. With ₹73,008 crore allocated to the School Education, strategic investments and accomplishments in the education sector, this budget lays a crucial foundation for empowering India\\'s youth, enabling them to aspire for higher education avenues beyond boundaries and elevate India’s international standing.\"Founder and CEO at University Living, Saurabh Arora said, “ In this era where new-age technologies and data are transforming lives and businesses, the budget recognizes their role in creating economic opportunities and providing high-quality services at affordable prices, particularly for those at the \\'bottom of the pyramid.\\' The expanding global opportunities for India are being driven by innovative solutions and entrepreneurial spirit. With ₹73,008 crore allocated to the School Education, strategic investments and accomplishments in the education sector, this budget lays a crucial foundation for empowering India\\'s youth, enabling them to aspire for higher education avenues beyond boundaries and elevate India’s international standing.\"Prime Minister Narendra Modi, on February 3, during a virtual address at the launch of Pali Sansad Khel Mahakumbh said, “In the last ten years, the sports budget has risen around 3 times of what it was before. Today, hundreds of athletes are receiving highly-skilled training in the country and abroad under the TOP scheme. Through \\'Khelo India\\', over 3,000 players are being provided assistance worth Rs. 50,000 every month\".He further mentioned that the country\\'s youth should be safe from harmful addictions of various kinds and increase willpower and concentration. PM Modi added, \"A key aspect of sports is that they not only make you cultivate the habit of winning but inspire you to become better and better in life. Sports teach us that excellence has no limits. Our (interim) Budget on February 1 was also dedicated to the youth of the country.\"\\xa0Prime Minister Narendra Modi, on February 3, during a virtual address at the launch of Pali Sansad Khel Mahakumbh said, “In the last ten years, the sports budget has risen around 3 times of what it was before. Today, hundreds of athletes are receiving highly-skilled training in the country and abroad under the TOP scheme. Through \\'Khelo India\\', over 3,000 players are being provided assistance worth Rs. 50,000 every month\".He further mentioned that the country\\'s youth should be safe from harmful addictions of various kinds and increase willpower and concentration. PM Modi added, \"A key aspect of sports is that they not only make you cultivate the habit of winning but inspire you to become better and better in life. Sports teach us that excellence has no limits. Our (interim) Budget on February 1 was also dedicated to the youth of the country.\"\\xa0Prime Minister Narendra Modi, on February 3, during a virtual address at the launch of Pali Sansad Khel Mahakumbh said that the interim budget 2024 is dedicated to the youth of the country. The centre is going to spend over ₹11 lakh crore on rail, road, and modern infrastructure claimed PM Modi. The event was being organised by BJP MP from Pali, PP Chaudhary.He said, “The budget that has come is dedicated to the youth of the country. The government is going to spend more than ₹11 lakh crore on rail, road and modern infrastructure. The biggest beneficiaries will be our youth.\"\\xa0PM Modi added, “Who desires good roads the most? Our youth... India is going to spend ₹11 lakh crore on modern infrastructure; the youth have the maximum number of new employment opportunities. will become.\"Prime Minister Narendra Modi, on February 3, during a virtual address at the launch of Pali Sansad Khel Mahakumbh said that the interim budget 2024 is dedicated to the youth of the country. The centre is going to spend over ₹11 lakh crore on rail, road, and modern infrastructure claimed PM Modi. The event was being organised by BJP MP from Pali, PP Chaudhary.He said, “The budget that has come is dedicated to the youth of the country. The government is going to spend more than ₹11 lakh crore on rail, road and modern infrastructure. The biggest beneficiaries will be our youth.\"\\xa0PM Modi added, “Who desires good roads the most? Our youth... India is going to spend ₹11 lakh crore on modern infrastructure; the youth have the maximum number of new employment opportunities. will become.\"UGC allocation was slashed by 61% from an estimate of ₹6,409 crore in 2023-24 to ₹2,500 crore for the upcoming financial year, according to the budget document released on February 1.An assistant professor at Delhi University, Rajesh Jha raising concerns over decrease in UGC budget said, “The drastic cut in UGC fund has deleted G (Grants) and reduced it to merely a regulatory agency. This will further encourage universities to start more self financing courses which will be an additional burden on students. It will also make universities more dependent on loans from Higher Education Financing Agency (HEFA).\"UGC allocation was slashed by 61% from an estimate of ₹6,409 crore in 2023-24 to ₹2,500 crore for the upcoming financial year, according to the budget document released on February 1.An assistant professor at Delhi University, Rajesh Jha raising concerns over decrease in UGC budget said, “The drastic cut in UGC fund has deleted G (Grants) and reduced it to merely a regulatory agency. This will further encourage universities to start more self financing courses which will be an additional burden on students. It will also make universities more dependent on loans from Higher Education Financing Agency (HEFA).\"According to the budget document released on February 1, the Union government has set aside ₹73,008.10 crore for schools of the total outlay for the upcoming financial year. This marks marginal increase of 0.73% from the revised estimate for 2023-24.Higher education budget allocation witnessed a sharp slump by ₹9,600 crore (16.8%) and was earmarked at ₹47,619.77 crore.Moreover, the overall revised estimate was different from the one mentioned in the budget document released by the finance ministry. The Union ministry of education claimed that the school education budget has increased by 19.5%. A senior ministry official said, “The revised estimates mentioned in the budget document have been added to it. However, it should be calculated without it.\"\\xa0According to the budget document released on February 1, the Union government has set aside ₹73,008.10 crore for schools of the total outlay for the upcoming financial year. This marks marginal increase of 0.73% from the revised estimate for 2023-24.Higher education budget allocation witnessed a sharp slump by ₹9,600 crore (16.8%) and was earmarked at ₹47,619.77 crore.Moreover, the overall revised estimate was different from the one mentioned in the budget document released by the finance ministry. The Union ministry of education claimed that the school education budget has increased by 19.5%. A senior ministry official said, “The revised estimates mentioned in the budget document have been added to it. However, it should be calculated without it.\"\\xa0FM Nirmala Sitharaman discussed viability gap funding during the announcement of budget. She said, \"Viability gap funding will be provided for harnessing offshore wind energy potential for initial capacity of 1 GW,\" in reference to India\\'s commitment to \\'net-zero\\' by 2070.FM Nirmala Sitharaman discussed viability gap funding during the announcement of budget. She said, \"Viability gap funding will be provided for harnessing offshore wind energy potential for initial capacity of 1 GW,\" in reference to India\\'s commitment to \\'net-zero\\' by 2070.FM Nirmala Sitharaman touched upon the topic of Ram Mandir during the announcement of budget. The Finance Minister in her speech said one crore households will be enabled to obtain up to 300 units of free electricity each month through rooftop solarisation, while highlighting the Pradhanmantri Suryodaya Yojana.\\xa0She added, “This scheme follows the resolve of the Prime Minister on the historic day of consecration of the Ram Mandir in Ayodhya.\" She stated that there will be “savings up to Rs15,000-18,000 annually for households from free solar electricity and selling the surplus to the distribution companies.\"FM Nirmala Sitharaman touched upon the topic of Ram Mandir during the announcement of budget. The Finance Minister in her speech said one crore households will be enabled to obtain up to 300 units of free electricity each month through rooftop solarisation, while highlighting the Pradhanmantri Suryodaya Yojana.\\xa0She added, “This scheme follows the resolve of the Prime Minister on the historic day of consecration of the Ram Mandir in Ayodhya.\" She stated that there will be “savings up to Rs15,000-18,000 annually for households from free solar electricity and selling the surplus to the distribution companies.\"Head Incubation and Office of Career Services at Anant National University, Dr Dhara Thakore, said, \"It includes several noteworthy announcements poised to have a positive impact on the innovation and startup ecosystem. A substantial corpus of ₹1 Lakh Crore providing a 50-year interest-free loan for long-term financing or re-financing, featuring low or even nil interest rates, will help the youth innovate especially in deep tech and sunrise sectors. This will encourage businesses to make substantial research and development efforts, in technologies such as 5G, and generative AI to name a few. This budgetary allocation will not only boost skill development of the youth but also foster industry academia collaboration, which will eventually transform the research landscape of the Higher Education institutions.Furthermore, as observed in previous budgets, the tax benefits for startups, including certain sovereign wealth fund investments, and grants exemptions for businesses in GIFT City until 31st March, 2025, are a welcome move as it will boost the investment ecosystem.\"Head Incubation and Office of Career Services at Anant National University, Dr Dhara Thakore, said, \"It includes several noteworthy announcements poised to have a positive impact on the innovation and startup ecosystem. A substantial corpus of ₹1 Lakh Crore providing a 50-year interest-free loan for long-term financing or re-financing, featuring low or even nil interest rates, will help the youth innovate especially in deep tech and sunrise sectors. This will encourage businesses to make substantial research and development efforts, in technologies such as 5G, and generative AI to name a few. This budgetary allocation will not only boost skill development of the youth but also foster industry academia collaboration, which will eventually transform the research landscape of the Higher Education institutions.Furthermore, as observed in previous budgets, the tax benefits for startups, including certain sovereign wealth fund investments, and grants exemptions for businesses in GIFT City until 31st March, 2025, are a welcome move as it will boost the investment ecosystem.\"According to the Interim Budget document released by the government on February 1, India has proposed to cut aid to the Maldives by 22 per cent in the upcoming financial year. Maldives has been allocated third highest aid to any foreign country by the government that stands at ₹600 crore for developmental assistance.According to the Interim Budget document released by the government on February 1, India has proposed to cut aid to the Maldives by 22 per cent in the upcoming financial year. Maldives has been allocated third highest aid to any foreign country by the government that stands at ₹600 crore for developmental assistance.Sri Sri University President, Rajita Kulkarni said, \"At the forefront is the National Education Policy (NEP) of 2020, introducing transformative measures to instill entrepreneurial mindsets in students. Focused on nurturing creativity, the budget envisions the development of future leaders. With a commendable emphasis on youth empowerment and entrepreneurship, the budget lays a promising foundation for today\\'s youth, emphasizing education and skill development.The budget\\'s commitment reflects a forward-looking approach to creating an environment where young minds actively contribute to the nation\\'s growth journey.\"Sri Sri University President, Rajita Kulkarni said, \"At the forefront is the National Education Policy (NEP) of 2020, introducing transformative measures to instill entrepreneurial mindsets in students. Focused on nurturing creativity, the budget envisions the development of future leaders. With a commendable emphasis on youth empowerment and entrepreneurship, the budget lays a promising foundation for today\\'s youth, emphasizing education and skill development.The budget\\'s commitment reflects a forward-looking approach to creating an environment where young minds actively contribute to the nation\\'s growth journey.\"Union finance minister Nirmala Sitharaman in a recent interview with Mint said that Viksit Bharat vision for a developed India is important because the younger generation should not go through what we did when we were growing up\\xa0She added, “The Modi government has empowered citizens of all strata and implemented “Ease of Living\" through technology in every sphere of life as against the red tape, policy paralysis, nepotism and corruption of the previous government that ruled for a decade till 2014.\"\\xa0While referring to the decade between 2004 and 2014 when the UPA was in power, FM Sitharaman said, “That one decade was completely wasted.\"Union finance minister Nirmala Sitharaman in a recent interview with Mint said that Viksit Bharat vision for a developed India is important because the younger generation should not go through what we did when we were growing up\\xa0She added, “The Modi government has empowered citizens of all strata and implemented “Ease of Living\" through technology in every sphere of life as against the red tape, policy paralysis, nepotism and corruption of the previous government that ruled for a decade till 2014.\"\\xa0While referring to the decade between 2004 and 2014 when the UPA was in power, FM Sitharaman said, “That one decade was completely wasted.\"Union finance minister Nirmala Sitharaman in an interview with Mint said, “It will not be possible to achieve this [vision of a developed India -Viksit Bharat] by just adopting a narrow sectoral approach.\"She added, “The emphasis needs to be on all sectors, and on everyone.\"Union finance minister Nirmala Sitharaman in an interview with Mint said, “It will not be possible to achieve this [vision of a developed India -Viksit Bharat] by just adopting a narrow sectoral approach.\"She added, “The emphasis needs to be on all sectors, and on everyone.\"Union finance minister Nirmala Sitharaman in a recent interview with Mint said, “India will be the world’s third largest economy in Modi\\'s 3rd term\" while referring to the four caste groups she mentioned in her speech on the day she announced the interim budget.Union finance minister Nirmala Sitharaman in a recent interview with Mint said, “India will be the world’s third largest economy in Modi\\'s 3rd term\" while referring to the four caste groups she mentioned in her speech on the day she announced the interim budget.FM Nirmala Sitharaman announced the adoption of an aggressive fiscal consolidation target with deficit target of 5.1% as against the expectation of 5.3% levels for the upcoming financial year. In this financial year, the government has achieved fiscal deficit target of 5.8%.FM Nirmala Sitharaman announced the adoption of an aggressive fiscal consolidation target with deficit target of 5.1% as against the expectation of 5.3% levels for the upcoming financial year. In this financial year, the government has achieved fiscal deficit target of 5.8%.FM Nirmala Sitharaman raised the outlay for infrastructure to ₹11,11,111 crore from ₹10,00,000 crore that is by 11% for the upcoming financial year.FM Nirmala Sitharaman raised the outlay for infrastructure to ₹11,11,111 crore from ₹10,00,000 crore that is by 11% for the upcoming financial year.In order to make India self-sufficient, Finance Minister Nirmala Sitharaman in her Interim Budget speech on 1st February 2024, said India will lead a research led growth and development path of indigenous oilseeds like mustard, groundnut and sesame . Currently, India imports over ₹1.5 trillion worth of cooking oil in a year that is around 60% of its spending.In order to make India self-sufficient, Finance Minister Nirmala Sitharaman in her Interim Budget speech on 1st February 2024, said India will lead a research led growth and development path of indigenous oilseeds like mustard, groundnut and sesame . Currently, India imports over ₹1.5 trillion worth of cooking oil in a year that is around 60% of its spending.Ahead of next financial year, gross borrowing were reduced from that of FY24 and were estimated to be ₹14.13 trillion.Ahead of next financial year, gross borrowing were reduced from that of FY24 and were estimated to be ₹14.13 trillion.Founder and CEO at Hero Vired, Akshay Munjal said, “The interim budget marks a pivotal stride towards fostering inclusive and robust academic growth. The establishment of new institutes underscores our commitment - that is, to elevate both the scale and quality of education. Women constitute 43% of enrolments in STEM courses, their participation increasing by 28% in the last decade reflects a substantial leap towards expanding opportunities in traditionally male-dominated fields. Additionally, through the Skill India Mission, the training of 114 million youth, along with upskilling/reskilling of 5.4 million youth, are strong steps that will benefit the industry at large by addressing the crucial need to bridge the demand-supply gap for skilled workers.\"Founder and CEO at Hero Vired, Akshay Munjal said, “The interim budget marks a pivotal stride towards fostering inclusive and robust academic growth. The establishment of new institutes underscores our commitment - that is, to elevate both the scale and quality of education. Women constitute 43% of enrolments in STEM courses, their participation increasing by 28% in the last decade reflects a substantial leap towards expanding opportunities in traditionally male-dominated fields. Additionally, through the Skill India Mission, the training of 114 million youth, along with upskilling/reskilling of 5.4 million youth, are strong steps that will benefit the industry at large by addressing the crucial need to bridge the demand-supply gap for skilled workers.\"CEO and Co-Founder at IONAGE Technologies, Vimal Kumar said, \"The Government’s focus on EV as a sector, along with green energy and sustainable transportation - in the Interim Budget 2024, is a boost for innovation and faster adoption of EVs across India.As of March 2023, India boasts a total of 6,586 operational public electric vehicle (EV) charging stations, which are spread across 68 cities in 25 states and Union Territories. In March 2023, the government sanctioned 2,877 electric vehicle charging stations, with 1,576 charging stations to be installed along 9 expressways and 16 highways, under phase-II of the FAME India Scheme. And now, the Union Budget 2024 reiterates the government\\'s ongoing support to the sector, which will be valuable in achieving the goal of 30% EV penetration by 2030.The bold initiatives, particularly the rapid adoption of e-buses for public transport networks supported by a robust payment mechanism, signal a transformative phase. This not only fuels innovation but also catalyzes the expansion of a comprehensive EV charging infrastructure for public and private vehicles. This also aligns with our mission of democratising EV charging accessibility.\"CEO and Co-Founder at IONAGE Technologies, Vimal Kumar said, \"The Government’s focus on EV as a sector, along with green energy and sustainable transportation - in the Interim Budget 2024, is a boost for innovation and faster adoption of EVs across India.As of March 2023, India boasts a total of 6,586 operational public electric vehicle (EV) charging stations, which are spread across 68 cities in 25 states and Union Territories. In March 2023, the government sanctioned 2,877 electric vehicle charging stations, with 1,576 charging stations to be installed along 9 expressways and 16 highways, under phase-II of the FAME India Scheme. And now, the Union Budget 2024 reiterates the government\\'s ongoing support to the sector, which will be valuable in achieving the goal of 30% EV penetration by 2030.The bold initiatives, particularly the rapid adoption of e-buses for public transport networks supported by a robust payment mechanism, signal a transformative phase. This not only fuels innovation but also catalyzes the expansion of a comprehensive EV charging infrastructure for public and private vehicles. This also aligns with our mission of democratising EV charging accessibility.\"In order to facilitate the ease of living and ease of doing business, Finance Minister Nirmala Sitharaman in her Interim Budget speech on 1st February 2024, said the government will withdraw outstanding direct tax demands up to:\\xa0a) \\xa0Rs. 25,000 pertaining to the period up to Financial Year 2009-10b) \\xa0Rs. 10,000 pertaining to financial years 2010-11 to 2014-15.The disputed tax demands will be withdrawn to improve taxpayer services.\\xa0In order to facilitate the ease of living and ease of doing business, Finance Minister Nirmala Sitharaman in her Interim Budget speech on 1st February 2024, said the government will withdraw outstanding direct tax demands up to:\\xa0a) \\xa0Rs. 25,000 pertaining to the period up to Financial Year 2009-10b) \\xa0Rs. 10,000 pertaining to financial years 2010-11 to 2014-15.The disputed tax demands will be withdrawn to improve taxpayer services.\\xa0Finance minister Nirmala Sitharaman has unveiled a progressive vision for the nation’s women through the interim budget for FY25. The commitment to increase the target of women beneficiaries under the Lakhpati Didi scheme from two crore to three crore is a significant stride towards financial inclusion and empowerment.Financial independence is the most important step to make women empowered. The expansion of the Lakhpati Didi scheme is a very important step for women. Empowering 83 lakh self-help groups (SHGs) with nine crore women is transforming rural landscapes, creating a million lakhpati didis. This is a commendable step towards fostering financial independence. Read MoreFinance minister Nirmala Sitharaman has unveiled a progressive vision for the nation’s women through the interim budget for FY25. The commitment to increase the target of women beneficiaries under the Lakhpati Didi scheme from two crore to three crore is a significant stride towards financial inclusion and empowerment.Financial independence is the most important step to make women empowered. The expansion of the Lakhpati Didi scheme is a very important step for women. Empowering 83 lakh self-help groups (SHGs) with nine crore women is transforming rural landscapes, creating a million lakhpati didis. This is a commendable step towards fostering financial independence. Read MoreFinance minister Nirmala Sitharaman made only a slight increase in fund allocations for the ministries of health and family welfare, as well as women and child development in her interim budget for FY25.But a key highlight of her budget speech in parliament was the government’s fresh focus on the health of young girls. Sitharaman said that the government will actively promote vaccination of girls aged 9-14 for prevention of cervical cancer. “Our government will encourage vaccination for girls in the age group of 9-14 years for prevention of cervical cancer,\" she said. Read MoreFinance minister Nirmala Sitharaman made only a slight increase in fund allocations for the ministries of health and family welfare, as well as women and child development in her interim budget for FY25.But a key highlight of her budget speech in parliament was the government’s fresh focus on the health of young girls. Sitharaman said that the government will actively promote vaccination of girls aged 9-14 for prevention of cervical cancer. “Our government will encourage vaccination for girls in the age group of 9-14 years for prevention of cervical cancer,\" she said. Read MoreIn the case of some taxpayers, their income tax disputes have been going on for years. As a result, their tax refunds also get stuck due to the pending demand from the previous years. If you are also one of the taxpayers with an outstanding disputed tax demand, there is good news for you in Budget 2024. Read MoreIn the case of some taxpayers, their income tax disputes have been going on for years. As a result, their tax refunds also get stuck due to the pending demand from the previous years. If you are also one of the taxpayers with an outstanding disputed tax demand, there is good news for you in Budget 2024. Read MoreFinance Minister Nirmala Sitharaman tabled her sixth straight Budget in the Parliament yesterday, February 1. Since this is an election year, a full budget will be presented in July, after the formation of the new government.The interim budget focused mainly on fiscal consolidation with an increasing focus on sectors including infrastructure, railways, defence, green energy, tourism, agriculture, and EV. Read MoreFinance Minister Nirmala Sitharaman tabled her sixth straight Budget in the Parliament yesterday, February 1. Since this is an election year, a full budget will be presented in July, after the formation of the new government.The interim budget focused mainly on fiscal consolidation with an increasing focus on sectors including infrastructure, railways, defence, green energy, tourism, agriculture, and EV. Read MoreThe highly anticipated announcement of Faster Adoption and Manufacturing of Hybrid and Electric Vehicles (FAME) scheme\\'s third phase wasn\\'t forthcoming in the Interim Budget 2024 presented by Finance Minister Nirmala Sitharaman on February 1. And to the EV industry\\'s dismay, the existing FAME scheme also saw a massive 55.58% cut in allocation. Budgetary support plunged from ₹4,807.40 crore to ₹2,671.33 crore for the upcoming financial year, falling significantly short of expectations for a hike to ₹10,000-12,000 crore. Read MoreThe highly anticipated announcement of Faster Adoption and Manufacturing of Hybrid and Electric Vehicles (FAME) scheme\\'s third phase wasn\\'t forthcoming in the Interim Budget 2024 presented by Finance Minister Nirmala Sitharaman on February 1. And to the EV industry\\'s dismay, the existing FAME scheme also saw a massive 55.58% cut in allocation. Budgetary support plunged from ₹4,807.40 crore to ₹2,671.33 crore for the upcoming financial year, falling significantly short of expectations for a hike to ₹10,000-12,000 crore. Read More“India assumed G20 Presidency during very difficult times for the world. The global economy was going through high inflation, high interest rates, low growth, very high public debt, low trade growth, and climate challenges. The pandemic had led to a crisis of food, fertilizer, fuel and finances for the world, while India successfully navigated its way. The country showed the way forward and built consensus on solutions for those global problems,\" Union Finance Minister Nirmala Sitharaman said in her budget day speech.\\xa0“India assumed G20 Presidency during very difficult times for the world. The global economy was going through high inflation, high interest rates, low growth, very high public debt, low trade growth, and climate challenges. The pandemic had led to a crisis of food, fertilizer, fuel and finances for the world, while India successfully navigated its way. The country showed the way forward and built consensus on solutions for those global problems,\" Union Finance Minister Nirmala Sitharaman said in her budget day speech.\\xa0“As this was an interim budget, the government did not make any major announcements for the sports sector and the total budget for sports has remained similar to last year with an allocation of 3442 crores for Financial Year 2024-25 compared to 3397 crores in Financial Year 2023-24,\" Aditya Reddy, Co-Founder & CEO of Gamepoint said.\\xa0“PM Narendra Modi during the inauguration of the Khelo India Youth Games in Chennai stated that the government has resolved to make the country an important centre of the global sports ecosystem. He also highlighted that sports was not just limited to the field, but also presents a huge economic opportunity, he said the country’s sports-related industry will be worth at least ₹1 lakh crore in a few years,\" he said.\\xa0\"Given the positive approach of the government towards sports, we hope that post the lok sabha elections, the new government will increase the budget allocation and announce new measures for the growth of Indian sports,\" he added.\\xa0“As this was an interim budget, the government did not make any major announcements for the sports sector and the total budget for sports has remained similar to last year with an allocation of 3442 crores for Financial Year 2024-25 compared to 3397 crores in Financial Year 2023-24,\" Aditya Reddy, Co-Founder & CEO of Gamepoint said.\\xa0“PM Narendra Modi during the inauguration of the Khelo India Youth Games in Chennai stated that the government has resolved to make the country an important centre of the global sports ecosystem. He also highlighted that sports was not just limited to the field, but also presents a huge economic opportunity, he said the country’s sports-related industry will be worth at least ₹1 lakh crore in a few years,\" he said.\\xa0\"Given the positive approach of the government towards sports, we hope that post the lok sabha elections, the new government will increase the budget allocation and announce new measures for the growth of Indian sports,\" he added.\\xa0The government is set to increase the subsidy for rooftop solar installations to about 60% under the new Pradhan Mantri Suryoday Yojana, union minister for new and renewable energy R.K. Singh said on Friday.Currently, the government provides a 40% subsidy for rooftop solar installations. Read MoreThe government is set to increase the subsidy for rooftop solar installations to about 60% under the new Pradhan Mantri Suryoday Yojana, union minister for new and renewable energy R.K. Singh said on Friday.Currently, the government provides a 40% subsidy for rooftop solar installations. Read More“It\\'s genuinely exciting to learn about India\\'s new plan outlined in this interim budget, focusing on building infrastructure and leveraging more technology. It\\'s like laying the foundation for the country\\'s growth, be it through cutting-edge tech, physical development, or improved connections. What\\'s particularly commendable is the government\\'s trust in the younger generation to bring in fresh tech ideas and innovations, recognizing the potential they hold for positive change,\" Ajay Chaurasia, Vice President, RupeeRedee said.\\xa0\"Moreover, the provision of interest-free loans for up to 50 years is a significant support system for individuals and businesses, allowing them to kickstart and sustain their endeavors. This move has the potential to not only create more jobs but also foster the growth of entrepreneurship, enabling people to build and sustain their own businesses. These initiatives seem to be crafting a conducive environment for growth, fostering new ideas, and empowering individuals. It\\'ll be fascinating to witness how these plans unfold and contribute positively to different regions of the country in the years to come,\" he added.\\xa0“It\\'s genuinely exciting to learn about India\\'s new plan outlined in this interim budget, focusing on building infrastructure and leveraging more technology. It\\'s like laying the foundation for the country\\'s growth, be it through cutting-edge tech, physical development, or improved connections. What\\'s particularly commendable is the government\\'s trust in the younger generation to bring in fresh tech ideas and innovations, recognizing the potential they hold for positive change,\" Ajay Chaurasia, Vice President, RupeeRedee said.\\xa0\"Moreover, the provision of interest-free loans for up to 50 years is a significant support system for individuals and businesses, allowing them to kickstart and sustain their endeavors. This move has the potential to not only create more jobs but also foster the growth of entrepreneurship, enabling people to build and sustain their own businesses. These initiatives seem to be crafting a conducive environment for growth, fostering new ideas, and empowering individuals. It\\'ll be fascinating to witness how these plans unfold and contribute positively to different regions of the country in the years to come,\" he added.\\xa0Budget 2024 Key Highlights LIVE: Prime Minister Narendra Modi on Saturday said that the interim budget 2024 is dedicated to the youth of the country as the government is going to spend more than ₹11 lakh crore on rail, road, and modern infrastructure.The Prime Minister made these remarks during a virtual address at the launch of Pali Sansad Khel Mahakumbh. The event was being organized by BJP MP from Pali, PP Chaudhary. Read MoreBudget 2024 Key Highlights LIVE: Prime Minister Narendra Modi on Saturday said that the interim budget 2024 is dedicated to the youth of the country as the government is going to spend more than ₹11 lakh crore on rail, road, and modern infrastructure.The Prime Minister made these remarks during a virtual address at the launch of Pali Sansad Khel Mahakumbh. The event was being organized by BJP MP from Pali, PP Chaudhary. Read More“The Union Budget 2024 shines a light on India\\'s future by investing in new ITIs, IITs, IIITs, IIMs, AIIMS, and universities. I truly believe that empowering our youth requires blending the strengths of traditional institutions with the innovative approaches of edtech platforms like HeyCoach. This combination nurtures not only academic excellence but also vital skills such as emotional intelligence, creativity, and adaptability. Post-academia, the focus should pivot towards nurturing problem-solving abilities and resilience to confront future challenges head-on,\" Pratik Kapasi, Founder of HeyCoach said.\\xa0\"Edtech platforms extend beyond a supplementary role; they act as pivotal agents of transformation. They democratize access to the best education, customize learning to meet individual needs, and gear students up for real-world challenges. These are the attributes that will sculpt the leaders, innovators, and thinkers of the future. In Conclusion, the role of education is about cultivating a society that values critical thinking, embraces diversity, and is committed to solving complex global issues. Institutions and ed-tech platforms must work in concert to empower the youth, not just as job seekers, but as job creators, thought leaders, and catalysts for change,\" he added.\\xa0“The Union Budget 2024 shines a light on India\\'s future by investing in new ITIs, IITs, IIITs, IIMs, AIIMS, and universities. I truly believe that empowering our youth requires blending the strengths of traditional institutions with the innovative approaches of edtech platforms like HeyCoach. This combination nurtures not only academic excellence but also vital skills such as emotional intelligence, creativity, and adaptability. Post-academia, the focus should pivot towards nurturing problem-solving abilities and resilience to confront future challenges head-on,\" Pratik Kapasi, Founder of HeyCoach said.\\xa0\"Edtech platforms extend beyond a supplementary role; they act as pivotal agents of transformation. They democratize access to the best education, customize learning to meet individual needs, and gear students up for real-world challenges. These are the attributes that will sculpt the leaders, innovators, and thinkers of the future. In Conclusion, the role of education is about cultivating a society that values critical thinking, embraces diversity, and is committed to solving complex global issues. Institutions and ed-tech platforms must work in concert to empower the youth, not just as job seekers, but as job creators, thought leaders, and catalysts for change,\" he added.\\xa0“The divestment targets have been missed once again and FY25 budget estimates have also been kept at a conservative 50k crore only. The underachievement is understandable as there was no revenue pressure and with the shortfall too, the government has estimated to better the fiscal deficit at 5.8%. Given that the new government will present its full budget in July and the divestments take preparation time, the government has made conservative estimates. The government may not need more proceed from this line in next year too as the final dividend proceeds for FY25 from public sector enterprises are also likely to be significantly higher next year as those will be accounted for in FY25,\" Ranen Banerjee, Partner and Leader Economic Advisory, PwC India said.\\xa0“The divestment targets have been missed once again and FY25 budget estimates have also been kept at a conservative 50k crore only. The underachievement is understandable as there was no revenue pressure and with the shortfall too, the government has estimated to better the fiscal deficit at 5.8%. Given that the new government will present its full budget in July and the divestments take preparation time, the government has made conservative estimates. The government may not need more proceed from this line in next year too as the final dividend proceeds for FY25 from public sector enterprises are also likely to be significantly higher next year as those will be accounted for in FY25,\" Ranen Banerjee, Partner and Leader Economic Advisory, PwC India said.\\xa0“Last year, we witnessed a ₹300 crore increase in sports allocations, which contributed to India\\'s success in the Asian and Para-Asian Games. The government\\'s continued commitment is evident in the latest budget, with a total allocation of ₹3442 crores, which reflects a significant increase from the previous year\\'s budget.\" Tenzing Niyogi, CEO and League Commissioner of Ultimate Kho Kho said.\\xa0\"The increased allocations not only boost the morale of our athletes but also serve as a testament to the government\\'s vision for developing and nurturing sporting talent. As India gears up for the upcoming Paris Olympics, this heightened financial support will pave the way for a promising era for sports in the country,\" Tenzing added.\\xa0“Last year, we witnessed a ₹300 crore increase in sports allocations, which contributed to India\\'s success in the Asian and Para-Asian Games. The government\\'s continued commitment is evident in the latest budget, with a total allocation of ₹3442 crores, which reflects a significant increase from the previous year\\'s budget.\" Tenzing Niyogi, CEO and League Commissioner of Ultimate Kho Kho said.\\xa0\"The increased allocations not only boost the morale of our athletes but also serve as a testament to the government\\'s vision for developing and nurturing sporting talent. As India gears up for the upcoming Paris Olympics, this heightened financial support will pave the way for a promising era for sports in the country,\" Tenzing added.\\xa0“The thriving economic system has undoubtedly placed us as a “hub for business and conference tourism\" where opportunities like demand for hospitality infrastructure and allied services can be a huge development but has also elevated the aspirations of our middle-income class to discover the sector. Recognizing the symbiotic interconnection between tourism and local entrepreneurship, we intend to unlock the opportunities for our citizens. Moreover, our commitment to offering dignified living spaces takes center stage with the release of a groundbreaking scheme,\" Mohit Jajoo, CEO & Director of Shubhashish Homes said.\\xa0“Targeting deserving sections of the middle-income class dwelling in rented houses, slums, chawls, and unauthorized colonies, we empower them to turn the key to their dream houses. This initiative not only addresses housing challenges but propels economic increase through growing a ripple effect inside the real estate sector. It\\'s no longer about building houses; it is about constructing a foundation for a brighter and more inclusive community for all,\" he added.\\xa0“The thriving economic system has undoubtedly placed us as a “hub for business and conference tourism\" where opportunities like demand for hospitality infrastructure and allied services can be a huge development but has also elevated the aspirations of our middle-income class to discover the sector. Recognizing the symbiotic interconnection between tourism and local entrepreneurship, we intend to unlock the opportunities for our citizens. Moreover, our commitment to offering dignified living spaces takes center stage with the release of a groundbreaking scheme,\" Mohit Jajoo, CEO & Director of Shubhashish Homes said.\\xa0“Targeting deserving sections of the middle-income class dwelling in rented houses, slums, chawls, and unauthorized colonies, we empower them to turn the key to their dream houses. This initiative not only addresses housing challenges but propels economic increase through growing a ripple effect inside the real estate sector. It\\'s no longer about building houses; it is about constructing a foundation for a brighter and more inclusive community for all,\" he added.\\xa0“The substantial allocation in this year\\'s budget not just for the sports sector but also for Khelo India will play a pivotal role with regard to grassroots development. This support for our athletes across all sporting disciplines will facilitate more participation and lead to more medals at the Olympics and other international tournaments,\" Suhail Chandhok, CEO, U Mumba said.\\xa0As mentioned by Finance Minister Nirmala Sitharaman, Indian athletes have been making their presence felt on the International stage and that is a significant indication of our country becoming a sporting powerhouse. Our upGrad Mumba Masters’ athletes Vidit Gujrathi, Harika Dronavalli, and Koneru Humpy securing Medals at last year’s Asian Games 2022 have brought immense pride to Indian chess, with Vidit also going on to secure a place in the prestigious Candidates tournament,\" he added.\\xa0“The substantial allocation in this year\\'s budget not just for the sports sector but also for Khelo India will play a pivotal role with regard to grassroots development. This support for our athletes across all sporting disciplines will facilitate more participation and lead to more medals at the Olympics and other international tournaments,\" Suhail Chandhok, CEO, U Mumba said.\\xa0As mentioned by Finance Minister Nirmala Sitharaman, Indian athletes have been making their presence felt on the International stage and that is a significant indication of our country becoming a sporting powerhouse. Our upGrad Mumba Masters’ athletes Vidit Gujrathi, Harika Dronavalli, and Koneru Humpy securing Medals at last year’s Asian Games 2022 have brought immense pride to Indian chess, with Vidit also going on to secure a place in the prestigious Candidates tournament,\" he added.\\xa0Budget 2024 Key Highlights LIVE: “The government\\'s proactive stance towards sports through this increased allocation of funds will provide the impetus for Indian athletes to shine brightly in international competitions, contributing to the continued growth and success of the country\\'s success on the global stage. With the Paris Olympics looming on the horizon, we are confident that our youth will make it the best-ever campaign for India,\" Punit Balan, Chairman & Managing Director of the Punit Balan Group said.\\xa0\"Our honorable Finance Minister, Nirmala Sitharaman, acknowledging the remarkable achievements of our youth in sports, particularly in chess, reflects the bright future of the sport in our nation. We take pride in Raunak Sadhwani, the prodigy of Balan Alaskan Knights, being one of India’s 80 Grandmasters,\" Punit added.\\xa0Budget 2024 Key Highlights LIVE: “The government\\'s proactive stance towards sports through this increased allocation of funds will provide the impetus for Indian athletes to shine brightly in international competitions, contributing to the continued growth and success of the country\\'s success on the global stage. With the Paris Olympics looming on the horizon, we are confident that our youth will make it the best-ever campaign for India,\" Punit Balan, Chairman & Managing Director of the Punit Balan Group said.\\xa0\"Our honorable Finance Minister, Nirmala Sitharaman, acknowledging the remarkable achievements of our youth in sports, particularly in chess, reflects the bright future of the sport in our nation. We take pride in Raunak Sadhwani, the prodigy of Balan Alaskan Knights, being one of India’s 80 Grandmasters,\" Punit added.\\xa0Chief Executive Officer at Worldline (India) Ramesh Narasimhan said, \"This year\\'s Budget focus on the overall MSME sector to facilitate growth and development is a welcome sign. The priority to work towards providing timely access to credit and all-round training for MSMEs will further strengthen the ecosystem and boost innovation. It is an opportunity for PayTech players like us to work closely with MSMEs to drive the next phase of digitization.\"Chief Executive Officer at Worldline (India) Ramesh Narasimhan said, \"This year\\'s Budget focus on the overall MSME sector to facilitate growth and development is a welcome sign. The priority to work towards providing timely access to credit and all-round training for MSMEs will further strengthen the ecosystem and boost innovation. It is an opportunity for PayTech players like us to work closely with MSMEs to drive the next phase of digitization.\"Director at Morningstar Investment Research India Private Limited, Mr. Kaustubh Belapurkar said, “Given the clear continued focus on fiscal prudence with estimated fiscal deficit for 2024-25 at 5.1%. This has given a lot of cheer to the bond markets and fixed income managers will be more constructive on adding duration to their funds\"Director at Morningstar Investment Research India Private Limited, Mr. Kaustubh Belapurkar said, “Given the clear continued focus on fiscal prudence with estimated fiscal deficit for 2024-25 at 5.1%. This has given a lot of cheer to the bond markets and fixed income managers will be more constructive on adding duration to their funds\"Founder and CVO at Repos Energy, Aditi Bhosale Walunj said, “The Government of India is taking active steps in this direction with the National Green Hydrogen Mission. This is a progressive step towards sustained future growth as it would ensure an uninterrupted supply of clean energy to all the stakeholders. The technological applications may also benefit us in the efficient and optimal use of currently available fuels. 24/7 easy access to energy shall drive domestic production.\"Founder and CVO at Repos Energy, Aditi Bhosale Walunj said, “The Government of India is taking active steps in this direction with the National Green Hydrogen Mission. This is a progressive step towards sustained future growth as it would ensure an uninterrupted supply of clean energy to all the stakeholders. The technological applications may also benefit us in the efficient and optimal use of currently available fuels. 24/7 easy access to energy shall drive domestic production.\"Chairman and Managing Director at Knight Frank India Mr. Shishir Baijal said, “The union budget presented . . . . has further strengthened the government’s commitment towards long- term social and infrastructure development. Though it is an interim budget due to the impending elections, today’s announcements by the Union Finance Minister are significant in many aspects. The 11.1% increase in infrastructure outlay which is 3.4% of GDP will further enhance the railway, roads and logistics infrastructure of the country. The three new economic railway corridors identified under the PM Gati Shakti program are massive projects with the potential to grow economic hubs and boost development of the tier-2 and tier-3 cities along their alignment.\"He added, \"The intention to complete 2 cr housing units in the next five years will aid the ‘Housing for All’ mission of the government. Additionally, the proposed boost to housing for the middle-class living in sub-par accommodation is also a welcome inclusion. We look forward to the details of this as we expect this to have great long-term ramifications. Further, the enhanced focus on domestic tourism development will provide a fillip to the hospitality industry.\"Chairman and Managing Director at Knight Frank India Mr. Shishir Baijal said, “The union budget presented . . . . has further strengthened the government’s commitment towards long- term social and infrastructure development. Though it is an interim budget due to the impending elections, today’s announcements by the Union Finance Minister are significant in many aspects. The 11.1% increase in infrastructure outlay which is 3.4% of GDP will further enhance the railway, roads and logistics infrastructure of the country. The three new economic railway corridors identified under the PM Gati Shakti program are massive projects with the potential to grow economic hubs and boost development of the tier-2 and tier-3 cities along their alignment.\"He added, \"The intention to complete 2 cr housing units in the next five years will aid the ‘Housing for All’ mission of the government. Additionally, the proposed boost to housing for the middle-class living in sub-par accommodation is also a welcome inclusion. We look forward to the details of this as we expect this to have great long-term ramifications. Further, the enhanced focus on domestic tourism development will provide a fillip to the hospitality industry.\"  Download  the App to get 14 days of unlimited access to Mint Premium absolutely free!  Download the Mint app and read premium storiesLog in to our website to save your bookmarks. It\\'ll just take a moment.You are just one step away from creating your watchlist!Oops! Looks like you have exceeded the limit to bookmark the image. Remove some to bookmark this image.Your session has expired, please login again.You are now subscribed to our newsletters. In case you can’t find any email from our side, please check the spam folder.This is a subscriber only feature Subscribe Now to get daily updates on WhatsApp'"
            ],
            "application/vnd.google.colaboratory.intrinsic+json": {
              "type": "string"
            }
          },
          "metadata": {},
          "execution_count": 63
        }
      ]
    },
    {
      "cell_type": "code",
      "source": [
        "tok_sentences = nltk.sent_tokenize(text)\n",
        "tok_sentences"
      ],
      "metadata": {
        "colab": {
          "base_uri": "https://localhost:8080/"
        },
        "id": "HgMHt_AIlSuN",
        "outputId": "b9406796-52f4-4411-b2ed-a751af27ada9"
      },
      "execution_count": null,
      "outputs": [
        {
          "output_type": "execute_result",
          "data": {
            "text/plain": [
              "['Budget 2024 Key Highlights LIVE Updates: Union Finance Minister Nirmala Sitharaman presented her sixth Budget on February 1.',\n",
              " 'This was an interim budget ahead of the general elections later this year.',\n",
              " 'The Interim Budget 2024 was focused on youth and women empowerment, while maintaining fiscal consolidation and continuing capex.',\n",
              " 'FM Sitharaman lowered down FY25 fiscal deficit target to 5.1% of the GDP.',\n",
              " 'There were no changes made to the direct tax and indirect tax rates.',\n",
              " 'Read the latest news on\\xa0Budget 2024 with our live coverage on the\\xa0Income Tax Slab,\\xa0Impact on Share Market, Budget Key Highlights, Corporate Reactions, and\\xa0Funny Memes.10 key takeaways from FM Sitharaman’s post-budget presser1] Finance Minister Nirmala Sitharaman stressed on 5 ‘Disha Nirdashak’ baatein: Social justice as an effective governance model; Focus on the poor, youth, women, and the Annadata (farmers); Focus on infrastructure; Use of technology to improve productivity and High power committee for challenges arising from demographic challenges.2] India has had three consecutive years of 7% GDP growth and is the fastest growing economy in G20.3] GDP is Government, Development and Performance.',\n",
              " 'We have delivered on Development and have better managed the economy.',\n",
              " 'We are bringing down the fiscal deficit despite very challenging times.4] Capex from the government will continue, it is important to continue it, FM said.5] India, Middle East, European Corridor (IMEC) project to be taken forward despite disturbances in Red Sea.6] The withdrawal of 1.1 crore outstanding small direct tax demands for certain years will cost less than ₹3,500 crore to the exchequer, said Revenue Secretary Sanjay Malhotra.7] No extension of lower tax rate to new manufacturing units coming into place after March 2024, FM clarified.8] Do not have a fixed target for disinvestment in FY25, said DIPAM Secretary Tuhin Kanta Pandey.9] We are not only aligning with the fiscal consolidation path given earlier, but we are also bettering it, Finance Minister Nirmala Sitharaman said in her message to credit rating agencies10] The relevance of the target to reduce the Centre’s debt-to-GDP ratio to 40% was set before COVID-19 period and now has to be examined, Finance Secretary TV Somanathan said.Updates to this blog has ended.',\n",
              " 'Keep an eye on Livemint for more newsUpdates to this blog has ended.',\n",
              " \"Keep an eye on Livemint for more newsThe 11 per cent increase in the capital expenditure by the government will definitely accelerate growth and prospective buyers' outlook towards the real estate sector is expected to be on a continued upward trajectory as the government has stabilized the income tax slab, Sanjay Sharma, Director of SKA Group, said.\",\n",
              " '\"The government\\'s stance regarding Namo Bharat is very positive, which would directly benefit Noida, Greater Noida and other cities.',\n",
              " 'Along with this, the expansion of the UDAN scheme in Tier 2 and 3 will accelerate the development of these regions as well,\" Sharma said.The 11 per cent increase in the capital expenditure by the government will definitely accelerate growth and prospective buyers\\' outlook towards the real estate sector is expected to be on a continued upward trajectory as the government has stabilized the income tax slab, Sanjay Sharma, Director of SKA Group, said.',\n",
              " '\"The government\\'s stance regarding Namo Bharat is very positive, which would directly benefit Noida, Greater Noida and other cities.',\n",
              " 'Along with this, the expansion of the UDAN scheme in Tier 2 and 3 will accelerate the development of these regions as well,\" Sharma said.The interim budget 2024 indicated that the government is eager to promote widespread growth with the middle-class housing programme, Himanshu Garg, Director, RG Group, said.',\n",
              " '\"The government\\'s emphasis on affordable and urban housing is demonstrated by the significant 66 per cent increase in funding, amounting to ₹79,000 crore for the Pradhan Mantri Awas Yojana scheme in FY24,\" Garg added.The interim budget 2024 indicated that the government is eager to promote widespread growth with the middle-class housing programme, Himanshu Garg, Director, RG Group, said.',\n",
              " '\"The government\\'s emphasis on affordable and urban housing is demonstrated by the significant 66 per cent increase in funding, amounting to ₹79,000 crore for the Pradhan Mantri Awas Yojana scheme in FY24,\" Garg added.“The increase in capex by 11 per cent will surely enhance growth in the market and the plans to promote Namo Bharat will also bring ease in connectivity among various cities, increasing the demand for property investments,\" Vikas Bhasin, Chairman and Managing Director, Saya Group, said.',\n",
              " '\"The advent of metro rail and rapid rail has already been attracting massive investors and the trend is expected to continue over the next few years as well.',\n",
              " 'Commercial real estate\\'s development would stay on the upward trajectory with the positive environment created by these factors,\" he said.“The increase in capex by 11 per cent will surely enhance growth in the market and the plans to promote Namo Bharat will also bring ease in connectivity among various cities, increasing the demand for property investments,\" Vikas Bhasin, Chairman and Managing Director, Saya Group, said.',\n",
              " '\"The advent of metro rail and rapid rail has already been attracting massive investors and the trend is expected to continue over the next few years as well.',\n",
              " 'Commercial real estate\\'s development would stay on the upward trajectory with the positive environment created by these factors,\" he said.Prime Minister Narendra Modi Sunday said the government at the Centre is moving towards making the electricity bill of the households in the country zero.In the budget, the government has announced a huge rooftop solar scheme.',\n",
              " 'Under this scheme, initially, the government will help one crore families to install rooftop solar panels,\" he said.',\n",
              " '\"Our goal is to make the life of every citizen comfortable.',\n",
              " 'This focus is clear in our budget.',\n",
              " 'In the budget, the govt has resolved to spend ₹11 lakh crore on infrastructure,\" PM Modi addedPrime Minister Narendra Modi Sunday said the government at the Centre is moving towards making the electricity bill of the households in the country zero.In the budget, the government has announced a huge rooftop solar scheme.',\n",
              " 'Under this scheme, initially, the government will help one crore families to install rooftop solar panels,\" he said.',\n",
              " '\"Our goal is to make the life of every citizen comfortable.',\n",
              " 'This focus is clear in our budget.',\n",
              " 'In the budget, the govt has resolved to spend ₹11 lakh crore on infrastructure,\" PM Modi added“Revision of the fiscal deficit, increased tax receipts, doubling of the GST tax base, and other indicators of robust economic growth were all highlighted in the union budget and real estate will benefit from a strong economy,\" Dinesh Gupta, CREDAI Western Uttar Pradesh Secretary, said\"It is a commendable step that the Centre will develop better policies and incentives to support mid-income housing.',\n",
              " 'An additional aspect to consider is the ongoing development of infrastructure through proactive measures.',\n",
              " 'Plans to construct additional airports, train lines, metro routes, EV facilities, etc have been announced.',\n",
              " 'Naturally, this will result in increased demand for real estate in western UP, including Noida,\" Gupta added.“Revision of the fiscal deficit, increased tax receipts, doubling of the GST tax base, and other indicators of robust economic growth were all highlighted in the union budget and real estate will benefit from a strong economy,\" Dinesh Gupta, CREDAI Western Uttar Pradesh Secretary, said\"It is a commendable step that the Centre will develop better policies and incentives to support mid-income housing.',\n",
              " 'An additional aspect to consider is the ongoing development of infrastructure through proactive measures.',\n",
              " 'Plans to construct additional airports, train lines, metro routes, EV facilities, etc have been announced.',\n",
              " 'Naturally, this will result in increased demand for real estate in western UP, including Noida,\" Gupta added.The Modi Government has given strength to the four pillars of Viksit Bharat which is poor section of the society, women, farmers and youth during the interim budget 2024.',\n",
              " '\"These are the four strata of society which have huge potential for growth and development.',\n",
              " 'Today the financial minister laid down a policy to harness the potential of these four drivers of development for the future.',\n",
              " 'And I think with this, we will be the largest economy by 2047,\" Dr BS Ghuman, former Vice-Chancellor of Punjabi University Patiala, saidThe Modi Government has given strength to the four pillars of Viksit Bharat which is poor section of the society, women, farmers and youth during the interim budget 2024.',\n",
              " '\"These are the four strata of society which have huge potential for growth and development.',\n",
              " 'Today the financial minister laid down a policy to harness the potential of these four drivers of development for the future.',\n",
              " 'And I think with this, we will be the largest economy by 2047,\" Dr BS Ghuman, former Vice-Chancellor of Punjabi University Patiala, said“The country\\'s new budget has come just two days ago.',\n",
              " 'This budget further strengthens the policy following which 25 crore people of the country have come out of poverty in the last 10 years.',\n",
              " 'The budget announcement is a guarantee of empowering the poor.',\n",
              " \"Be it our youth, women, farmers, fishermen, this budget guarantees everyone's development.\",\n",
              " 'Guarantee of fulfilling guarantees is the meaning of Modi guarantee,\" Prime Minister Modi said on Saturday“The country\\'s new budget has come just two days ago.',\n",
              " 'This budget further strengthens the policy following which 25 crore people of the country have come out of poverty in the last 10 years.',\n",
              " 'The budget announcement is a guarantee of empowering the poor.',\n",
              " \"Be it our youth, women, farmers, fishermen, this budget guarantees everyone's development.\",\n",
              " 'Guarantee of fulfilling guarantees is the meaning of Modi guarantee,\" Prime Minister Modi said on SaturdayRevenue Secretary Sanjay Malhotra said the special focus on capital expenditure and fiscal prudence in the interim Budget 2024 will enhance employment opportunities and give a boost to the economy and incomes, and highlighted that the budget aims to empower people.',\n",
              " '\"The budget focuses on prioritising good education, healthcare and skill training for the people so that they can contribute to the progress of the economy,\" Malhotra said.Revenue Secretary Sanjay Malhotra said the special focus on capital expenditure and fiscal prudence in the interim Budget 2024 will enhance employment opportunities and give a boost to the economy and incomes, and highlighted that the budget aims to empower people.',\n",
              " '\"The budget focuses on prioritising good education, healthcare and skill training for the people so that they can contribute to the progress of the economy,\" Malhotra said.Emphasising ‘certainty and stability’ in the tax structure, Revenue Secretary Sanjay Malhotra has said that any change in customs duty can be looked at in the full budget to be presented after the Lok Sabha polls and that the government is aiming ₹1.83 lakh crore GST collection per month next fiscalEmphasising ‘certainty and stability’ in the tax structure, Revenue Secretary Sanjay Malhotra has said that any change in customs duty can be looked at in the full budget to be presented after the Lok Sabha polls and that the government is aiming ₹1.83 lakh crore GST collection per month next fiscalFounder and CEO at University Living, Saurabh Arora said, “ In this era where new-age technologies and data are transforming lives and businesses, the budget recognizes their role in creating economic opportunities and providing high-quality services at affordable prices, particularly for those at the \\'bottom of the pyramid.\\'',\n",
              " 'The expanding global opportunities for India are being driven by innovative solutions and entrepreneurial spirit.',\n",
              " \"With ₹73,008 crore allocated to the School Education, strategic investments and accomplishments in the education sector, this budget lays a crucial foundation for empowering India's youth, enabling them to aspire for higher education avenues beyond boundaries and elevate India’s international standing.\",\n",
              " '\"Founder and CEO at University Living, Saurabh Arora said, “ In this era where new-age technologies and data are transforming lives and businesses, the budget recognizes their role in creating economic opportunities and providing high-quality services at affordable prices, particularly for those at the \\'bottom of the pyramid.\\'',\n",
              " 'The expanding global opportunities for India are being driven by innovative solutions and entrepreneurial spirit.',\n",
              " \"With ₹73,008 crore allocated to the School Education, strategic investments and accomplishments in the education sector, this budget lays a crucial foundation for empowering India's youth, enabling them to aspire for higher education avenues beyond boundaries and elevate India’s international standing.\",\n",
              " '\"Prime Minister Narendra Modi, on February 3, during a virtual address at the launch of Pali Sansad Khel Mahakumbh said, “In the last ten years, the sports budget has risen around 3 times of what it was before.',\n",
              " 'Today, hundreds of athletes are receiving highly-skilled training in the country and abroad under the TOP scheme.',\n",
              " \"Through 'Khelo India', over 3,000 players are being provided assistance worth Rs.\",\n",
              " '50,000 every month\".He further mentioned that the country\\'s youth should be safe from harmful addictions of various kinds and increase willpower and concentration.',\n",
              " 'PM Modi added, \"A key aspect of sports is that they not only make you cultivate the habit of winning but inspire you to become better and better in life.',\n",
              " 'Sports teach us that excellence has no limits.',\n",
              " 'Our (interim) Budget on February 1 was also dedicated to the youth of the country.\"',\n",
              " 'Prime Minister Narendra Modi, on February 3, during a virtual address at the launch of Pali Sansad Khel Mahakumbh said, “In the last ten years, the sports budget has risen around 3 times of what it was before.',\n",
              " 'Today, hundreds of athletes are receiving highly-skilled training in the country and abroad under the TOP scheme.',\n",
              " \"Through 'Khelo India', over 3,000 players are being provided assistance worth Rs.\",\n",
              " '50,000 every month\".He further mentioned that the country\\'s youth should be safe from harmful addictions of various kinds and increase willpower and concentration.',\n",
              " 'PM Modi added, \"A key aspect of sports is that they not only make you cultivate the habit of winning but inspire you to become better and better in life.',\n",
              " 'Sports teach us that excellence has no limits.',\n",
              " 'Our (interim) Budget on February 1 was also dedicated to the youth of the country.\"',\n",
              " 'Prime Minister Narendra Modi, on February 3, during a virtual address at the launch of Pali Sansad Khel Mahakumbh said that the interim budget 2024 is dedicated to the youth of the country.',\n",
              " 'The centre is going to spend over ₹11 lakh crore on rail, road, and modern infrastructure claimed PM Modi.',\n",
              " 'The event was being organised by BJP MP from Pali, PP Chaudhary.He said, “The budget that has come is dedicated to the youth of the country.',\n",
              " 'The government is going to spend more than ₹11 lakh crore on rail, road and modern infrastructure.',\n",
              " 'The biggest beneficiaries will be our youth.\"',\n",
              " 'PM Modi added, “Who desires good roads the most?',\n",
              " 'Our youth... India is going to spend ₹11 lakh crore on modern infrastructure; the youth have the maximum number of new employment opportunities.',\n",
              " 'will become.',\n",
              " '\"Prime Minister Narendra Modi, on February 3, during a virtual address at the launch of Pali Sansad Khel Mahakumbh said that the interim budget 2024 is dedicated to the youth of the country.',\n",
              " 'The centre is going to spend over ₹11 lakh crore on rail, road, and modern infrastructure claimed PM Modi.',\n",
              " 'The event was being organised by BJP MP from Pali, PP Chaudhary.He said, “The budget that has come is dedicated to the youth of the country.',\n",
              " 'The government is going to spend more than ₹11 lakh crore on rail, road and modern infrastructure.',\n",
              " 'The biggest beneficiaries will be our youth.\"',\n",
              " 'PM Modi added, “Who desires good roads the most?',\n",
              " 'Our youth... India is going to spend ₹11 lakh crore on modern infrastructure; the youth have the maximum number of new employment opportunities.',\n",
              " 'will become.',\n",
              " '\"UGC allocation was slashed by 61% from an estimate of ₹6,409 crore in 2023-24 to ₹2,500 crore for the upcoming financial year, according to the budget document released on February 1.An assistant professor at Delhi University, Rajesh Jha raising concerns over decrease in UGC budget said, “The drastic cut in UGC fund has deleted G (Grants) and reduced it to merely a regulatory agency.',\n",
              " 'This will further encourage universities to start more self financing courses which will be an additional burden on students.',\n",
              " 'It will also make universities more dependent on loans from Higher Education Financing Agency (HEFA).',\n",
              " '\"UGC allocation was slashed by 61% from an estimate of ₹6,409 crore in 2023-24 to ₹2,500 crore for the upcoming financial year, according to the budget document released on February 1.An assistant professor at Delhi University, Rajesh Jha raising concerns over decrease in UGC budget said, “The drastic cut in UGC fund has deleted G (Grants) and reduced it to merely a regulatory agency.',\n",
              " 'This will further encourage universities to start more self financing courses which will be an additional burden on students.',\n",
              " 'It will also make universities more dependent on loans from Higher Education Financing Agency (HEFA).',\n",
              " '\"According to the budget document released on February 1, the Union government has set aside ₹73,008.10 crore for schools of the total outlay for the upcoming financial year.',\n",
              " 'This marks marginal increase of 0.73% from the revised estimate for 2023-24.Higher education budget allocation witnessed a sharp slump by ₹9,600 crore (16.8%) and was earmarked at ₹47,619.77 crore.Moreover, the overall revised estimate was different from the one mentioned in the budget document released by the finance ministry.',\n",
              " 'The Union ministry of education claimed that the school education budget has increased by 19.5%.',\n",
              " 'A senior ministry official said, “The revised estimates mentioned in the budget document have been added to it.',\n",
              " 'However, it should be calculated without it.\"',\n",
              " 'According to the budget document released on February 1, the Union government has set aside ₹73,008.10 crore for schools of the total outlay for the upcoming financial year.',\n",
              " 'This marks marginal increase of 0.73% from the revised estimate for 2023-24.Higher education budget allocation witnessed a sharp slump by ₹9,600 crore (16.8%) and was earmarked at ₹47,619.77 crore.Moreover, the overall revised estimate was different from the one mentioned in the budget document released by the finance ministry.',\n",
              " 'The Union ministry of education claimed that the school education budget has increased by 19.5%.',\n",
              " 'A senior ministry official said, “The revised estimates mentioned in the budget document have been added to it.',\n",
              " 'However, it should be calculated without it.\"',\n",
              " 'FM Nirmala Sitharaman discussed viability gap funding during the announcement of budget.',\n",
              " 'She said, \"Viability gap funding will be provided for harnessing offshore wind energy potential for initial capacity of 1 GW,\" in reference to India\\'s commitment to \\'net-zero\\' by 2070.FM Nirmala Sitharaman discussed viability gap funding during the announcement of budget.',\n",
              " 'She said, \"Viability gap funding will be provided for harnessing offshore wind energy potential for initial capacity of 1 GW,\" in reference to India\\'s commitment to \\'net-zero\\' by 2070.FM Nirmala Sitharaman touched upon the topic of Ram Mandir during the announcement of budget.',\n",
              " 'The Finance Minister in her speech said one crore households will be enabled to obtain up to 300 units of free electricity each month through rooftop solarisation, while highlighting the Pradhanmantri Suryodaya Yojana.',\n",
              " 'She added, “This scheme follows the resolve of the Prime Minister on the historic day of consecration of the Ram Mandir in Ayodhya.\"',\n",
              " 'She stated that there will be “savings up to Rs15,000-18,000 annually for households from free solar electricity and selling the surplus to the distribution companies.',\n",
              " '\"FM Nirmala Sitharaman touched upon the topic of Ram Mandir during the announcement of budget.',\n",
              " 'The Finance Minister in her speech said one crore households will be enabled to obtain up to 300 units of free electricity each month through rooftop solarisation, while highlighting the Pradhanmantri Suryodaya Yojana.',\n",
              " 'She added, “This scheme follows the resolve of the Prime Minister on the historic day of consecration of the Ram Mandir in Ayodhya.\"',\n",
              " 'She stated that there will be “savings up to Rs15,000-18,000 annually for households from free solar electricity and selling the surplus to the distribution companies.',\n",
              " '\"Head Incubation and Office of Career Services at Anant National University, Dr Dhara Thakore, said, \"It includes several noteworthy announcements poised to have a positive impact on the innovation and startup ecosystem.',\n",
              " 'A substantial corpus of ₹1 Lakh Crore providing a 50-year interest-free loan for long-term financing or re-financing, featuring low or even nil interest rates, will help the youth innovate especially in deep tech and sunrise sectors.',\n",
              " 'This will encourage businesses to make substantial research and development efforts, in technologies such as 5G, and generative AI to name a few.',\n",
              " 'This budgetary allocation will not only boost skill development of the youth but also foster industry academia collaboration, which will eventually transform the research landscape of the Higher Education institutions.Furthermore, as observed in previous budgets, the tax benefits for startups, including certain sovereign wealth fund investments, and grants exemptions for businesses in GIFT City until 31st March, 2025, are a welcome move as it will boost the investment ecosystem.',\n",
              " '\"Head Incubation and Office of Career Services at Anant National University, Dr Dhara Thakore, said, \"It includes several noteworthy announcements poised to have a positive impact on the innovation and startup ecosystem.',\n",
              " 'A substantial corpus of ₹1 Lakh Crore providing a 50-year interest-free loan for long-term financing or re-financing, featuring low or even nil interest rates, will help the youth innovate especially in deep tech and sunrise sectors.',\n",
              " 'This will encourage businesses to make substantial research and development efforts, in technologies such as 5G, and generative AI to name a few.',\n",
              " 'This budgetary allocation will not only boost skill development of the youth but also foster industry academia collaboration, which will eventually transform the research landscape of the Higher Education institutions.Furthermore, as observed in previous budgets, the tax benefits for startups, including certain sovereign wealth fund investments, and grants exemptions for businesses in GIFT City until 31st March, 2025, are a welcome move as it will boost the investment ecosystem.',\n",
              " '\"According to the Interim Budget document released by the government on February 1, India has proposed to cut aid to the Maldives by 22 per cent in the upcoming financial year.',\n",
              " 'Maldives has been allocated third highest aid to any foreign country by the government that stands at ₹600 crore for developmental assistance.According to the Interim Budget document released by the government on February 1, India has proposed to cut aid to the Maldives by 22 per cent in the upcoming financial year.',\n",
              " 'Maldives has been allocated third highest aid to any foreign country by the government that stands at ₹600 crore for developmental assistance.Sri Sri University President, Rajita Kulkarni said, \"At the forefront is the National Education Policy (NEP) of 2020, introducing transformative measures to instill entrepreneurial mindsets in students.',\n",
              " 'Focused on nurturing creativity, the budget envisions the development of future leaders.',\n",
              " \"With a commendable emphasis on youth empowerment and entrepreneurship, the budget lays a promising foundation for today's youth, emphasizing education and skill development.The budget's commitment reflects a forward-looking approach to creating an environment where young minds actively contribute to the nation's growth journey.\",\n",
              " '\"Sri Sri University President, Rajita Kulkarni said, \"At the forefront is the National Education Policy (NEP) of 2020, introducing transformative measures to instill entrepreneurial mindsets in students.',\n",
              " 'Focused on nurturing creativity, the budget envisions the development of future leaders.',\n",
              " \"With a commendable emphasis on youth empowerment and entrepreneurship, the budget lays a promising foundation for today's youth, emphasizing education and skill development.The budget's commitment reflects a forward-looking approach to creating an environment where young minds actively contribute to the nation's growth journey.\",\n",
              " '\"Union finance minister Nirmala Sitharaman in a recent interview with Mint said that Viksit Bharat vision for a developed India is important because the younger generation should not go through what we did when we were growing up\\xa0She added, “The Modi government has empowered citizens of all strata and implemented “Ease of Living\" through technology in every sphere of life as against the red tape, policy paralysis, nepotism and corruption of the previous government that ruled for a decade till 2014.\"',\n",
              " 'While referring to the decade between 2004 and 2014 when the UPA was in power, FM Sitharaman said, “That one decade was completely wasted.',\n",
              " '\"Union finance minister Nirmala Sitharaman in a recent interview with Mint said that Viksit Bharat vision for a developed India is important because the younger generation should not go through what we did when we were growing up\\xa0She added, “The Modi government has empowered citizens of all strata and implemented “Ease of Living\" through technology in every sphere of life as against the red tape, policy paralysis, nepotism and corruption of the previous government that ruled for a decade till 2014.\"',\n",
              " 'While referring to the decade between 2004 and 2014 when the UPA was in power, FM Sitharaman said, “That one decade was completely wasted.',\n",
              " '\"Union finance minister Nirmala Sitharaman in an interview with Mint said, “It will not be possible to achieve this [vision of a developed India -Viksit Bharat] by just adopting a narrow sectoral approach.',\n",
              " '\"She added, “The emphasis needs to be on all sectors, and on everyone.',\n",
              " '\"Union finance minister Nirmala Sitharaman in an interview with Mint said, “It will not be possible to achieve this [vision of a developed India -Viksit Bharat] by just adopting a narrow sectoral approach.',\n",
              " '\"She added, “The emphasis needs to be on all sectors, and on everyone.',\n",
              " '\"Union finance minister Nirmala Sitharaman in a recent interview with Mint said, “India will be the world’s third largest economy in Modi\\'s 3rd term\" while referring to the four caste groups she mentioned in her speech on the day she announced the interim budget.Union finance minister Nirmala Sitharaman in a recent interview with Mint said, “India will be the world’s third largest economy in Modi\\'s 3rd term\" while referring to the four caste groups she mentioned in her speech on the day she announced the interim budget.FM Nirmala Sitharaman announced the adoption of an aggressive fiscal consolidation target with deficit target of 5.1% as against the expectation of 5.3% levels for the upcoming financial year.',\n",
              " 'In this financial year, the government has achieved fiscal deficit target of 5.8%.FM Nirmala Sitharaman announced the adoption of an aggressive fiscal consolidation target with deficit target of 5.1% as against the expectation of 5.3% levels for the upcoming financial year.',\n",
              " 'In this financial year, the government has achieved fiscal deficit target of 5.8%.FM Nirmala Sitharaman raised the outlay for infrastructure to ₹11,11,111 crore from ₹10,00,000 crore that is by 11% for the upcoming financial year.FM Nirmala Sitharaman raised the outlay for infrastructure to ₹11,11,111 crore from ₹10,00,000 crore that is by 11% for the upcoming financial year.In order to make India self-sufficient, Finance Minister Nirmala Sitharaman in her Interim Budget speech on 1st February 2024, said India will lead a research led growth and development path of indigenous oilseeds like mustard, groundnut and sesame .',\n",
              " 'Currently, India imports over ₹1.5 trillion worth of cooking oil in a year that is around 60% of its spending.In order to make India self-sufficient, Finance Minister Nirmala Sitharaman in her Interim Budget speech on 1st February 2024, said India will lead a research led growth and development path of indigenous oilseeds like mustard, groundnut and sesame .',\n",
              " 'Currently, India imports over ₹1.5 trillion worth of cooking oil in a year that is around 60% of its spending.Ahead of next financial year, gross borrowing were reduced from that of FY24 and were estimated to be ₹14.13 trillion.Ahead of next financial year, gross borrowing were reduced from that of FY24 and were estimated to be ₹14.13 trillion.Founder and CEO at Hero Vired, Akshay Munjal said, “The interim budget marks a pivotal stride towards fostering inclusive and robust academic growth.',\n",
              " 'The establishment of new institutes underscores our commitment - that is, to elevate both the scale and quality of education.',\n",
              " 'Women constitute 43% of enrolments in STEM courses, their participation increasing by 28% in the last decade reflects a substantial leap towards expanding opportunities in traditionally male-dominated fields.',\n",
              " 'Additionally, through the Skill India Mission, the training of 114 million youth, along with upskilling/reskilling of 5.4 million youth, are strong steps that will benefit the industry at large by addressing the crucial need to bridge the demand-supply gap for skilled workers.',\n",
              " '\"Founder and CEO at Hero Vired, Akshay Munjal said, “The interim budget marks a pivotal stride towards fostering inclusive and robust academic growth.',\n",
              " 'The establishment of new institutes underscores our commitment - that is, to elevate both the scale and quality of education.',\n",
              " 'Women constitute 43% of enrolments in STEM courses, their participation increasing by 28% in the last decade reflects a substantial leap towards expanding opportunities in traditionally male-dominated fields.',\n",
              " 'Additionally, through the Skill India Mission, the training of 114 million youth, along with upskilling/reskilling of 5.4 million youth, are strong steps that will benefit the industry at large by addressing the crucial need to bridge the demand-supply gap for skilled workers.',\n",
              " '\"CEO and Co-Founder at IONAGE Technologies, Vimal Kumar said, \"The Government’s focus on EV as a sector, along with green energy and sustainable transportation - in the Interim Budget 2024, is a boost for innovation and faster adoption of EVs across India.As of March 2023, India boasts a total of 6,586 operational public electric vehicle (EV) charging stations, which are spread across 68 cities in 25 states and Union Territories.',\n",
              " 'In March 2023, the government sanctioned 2,877 electric vehicle charging stations, with 1,576 charging stations to be installed along 9 expressways and 16 highways, under phase-II of the FAME India Scheme.',\n",
              " \"And now, the Union Budget 2024 reiterates the government's ongoing support to the sector, which will be valuable in achieving the goal of 30% EV penetration by 2030.The bold initiatives, particularly the rapid adoption of e-buses for public transport networks supported by a robust payment mechanism, signal a transformative phase.\",\n",
              " 'This not only fuels innovation but also catalyzes the expansion of a comprehensive EV charging infrastructure for public and private vehicles.',\n",
              " 'This also aligns with our mission of democratising EV charging accessibility.',\n",
              " '\"CEO and Co-Founder at IONAGE Technologies, Vimal Kumar said, \"The Government’s focus on EV as a sector, along with green energy and sustainable transportation - in the Interim Budget 2024, is a boost for innovation and faster adoption of EVs across India.As of March 2023, India boasts a total of 6,586 operational public electric vehicle (EV) charging stations, which are spread across 68 cities in 25 states and Union Territories.',\n",
              " 'In March 2023, the government sanctioned 2,877 electric vehicle charging stations, with 1,576 charging stations to be installed along 9 expressways and 16 highways, under phase-II of the FAME India Scheme.',\n",
              " \"And now, the Union Budget 2024 reiterates the government's ongoing support to the sector, which will be valuable in achieving the goal of 30% EV penetration by 2030.The bold initiatives, particularly the rapid adoption of e-buses for public transport networks supported by a robust payment mechanism, signal a transformative phase.\",\n",
              " 'This not only fuels innovation but also catalyzes the expansion of a comprehensive EV charging infrastructure for public and private vehicles.',\n",
              " 'This also aligns with our mission of democratising EV charging accessibility.',\n",
              " '\"In order to facilitate the ease of living and ease of doing business, Finance Minister Nirmala Sitharaman in her Interim Budget speech on 1st February 2024, said the government will withdraw outstanding direct tax demands up to:\\xa0a) \\xa0Rs.',\n",
              " '25,000 pertaining to the period up to Financial Year 2009-10b) \\xa0Rs.',\n",
              " '10,000 pertaining to financial years 2010-11 to 2014-15.The disputed tax demands will be withdrawn to improve taxpayer services.',\n",
              " 'In order to facilitate the ease of living and ease of doing business, Finance Minister Nirmala Sitharaman in her Interim Budget speech on 1st February 2024, said the government will withdraw outstanding direct tax demands up to:\\xa0a) \\xa0Rs.',\n",
              " '25,000 pertaining to the period up to Financial Year 2009-10b) \\xa0Rs.',\n",
              " '10,000 pertaining to financial years 2010-11 to 2014-15.The disputed tax demands will be withdrawn to improve taxpayer services.',\n",
              " 'Finance minister Nirmala Sitharaman has unveiled a progressive vision for the nation’s women through the interim budget for FY25.',\n",
              " 'The commitment to increase the target of women beneficiaries under the Lakhpati Didi scheme from two crore to three crore is a significant stride towards financial inclusion and empowerment.Financial independence is the most important step to make women empowered.',\n",
              " 'The expansion of the Lakhpati Didi scheme is a very important step for women.',\n",
              " 'Empowering 83 lakh self-help groups (SHGs) with nine crore women is transforming rural landscapes, creating a million lakhpati didis.',\n",
              " 'This is a commendable step towards fostering financial independence.',\n",
              " 'Read MoreFinance minister Nirmala Sitharaman has unveiled a progressive vision for the nation’s women through the interim budget for FY25.',\n",
              " 'The commitment to increase the target of women beneficiaries under the Lakhpati Didi scheme from two crore to three crore is a significant stride towards financial inclusion and empowerment.Financial independence is the most important step to make women empowered.',\n",
              " 'The expansion of the Lakhpati Didi scheme is a very important step for women.',\n",
              " 'Empowering 83 lakh self-help groups (SHGs) with nine crore women is transforming rural landscapes, creating a million lakhpati didis.',\n",
              " 'This is a commendable step towards fostering financial independence.',\n",
              " 'Read MoreFinance minister Nirmala Sitharaman made only a slight increase in fund allocations for the ministries of health and family welfare, as well as women and child development in her interim budget for FY25.But a key highlight of her budget speech in parliament was the government’s fresh focus on the health of young girls.',\n",
              " 'Sitharaman said that the government will actively promote vaccination of girls aged 9-14 for prevention of cervical cancer.',\n",
              " '“Our government will encourage vaccination for girls in the age group of 9-14 years for prevention of cervical cancer,\" she said.',\n",
              " 'Read MoreFinance minister Nirmala Sitharaman made only a slight increase in fund allocations for the ministries of health and family welfare, as well as women and child development in her interim budget for FY25.But a key highlight of her budget speech in parliament was the government’s fresh focus on the health of young girls.',\n",
              " 'Sitharaman said that the government will actively promote vaccination of girls aged 9-14 for prevention of cervical cancer.',\n",
              " '“Our government will encourage vaccination for girls in the age group of 9-14 years for prevention of cervical cancer,\" she said.',\n",
              " 'Read MoreIn the case of some taxpayers, their income tax disputes have been going on for years.',\n",
              " 'As a result, their tax refunds also get stuck due to the pending demand from the previous years.',\n",
              " 'If you are also one of the taxpayers with an outstanding disputed tax demand, there is good news for you in Budget 2024.',\n",
              " 'Read MoreIn the case of some taxpayers, their income tax disputes have been going on for years.',\n",
              " 'As a result, their tax refunds also get stuck due to the pending demand from the previous years.',\n",
              " 'If you are also one of the taxpayers with an outstanding disputed tax demand, there is good news for you in Budget 2024.',\n",
              " 'Read MoreFinance Minister Nirmala Sitharaman tabled her sixth straight Budget in the Parliament yesterday, February 1.',\n",
              " 'Since this is an election year, a full budget will be presented in July, after the formation of the new government.The interim budget focused mainly on fiscal consolidation with an increasing focus on sectors including infrastructure, railways, defence, green energy, tourism, agriculture, and EV.',\n",
              " 'Read MoreFinance Minister Nirmala Sitharaman tabled her sixth straight Budget in the Parliament yesterday, February 1.',\n",
              " 'Since this is an election year, a full budget will be presented in July, after the formation of the new government.The interim budget focused mainly on fiscal consolidation with an increasing focus on sectors including infrastructure, railways, defence, green energy, tourism, agriculture, and EV.',\n",
              " \"Read MoreThe highly anticipated announcement of Faster Adoption and Manufacturing of Hybrid and Electric Vehicles (FAME) scheme's third phase wasn't forthcoming in the Interim Budget 2024 presented by Finance Minister Nirmala Sitharaman on February 1.\",\n",
              " \"And to the EV industry's dismay, the existing FAME scheme also saw a massive 55.58% cut in allocation.\",\n",
              " 'Budgetary support plunged from ₹4,807.40 crore to ₹2,671.33 crore for the upcoming financial year, falling significantly short of expectations for a hike to ₹10,000-12,000 crore.',\n",
              " \"Read MoreThe highly anticipated announcement of Faster Adoption and Manufacturing of Hybrid and Electric Vehicles (FAME) scheme's third phase wasn't forthcoming in the Interim Budget 2024 presented by Finance Minister Nirmala Sitharaman on February 1.\",\n",
              " \"And to the EV industry's dismay, the existing FAME scheme also saw a massive 55.58% cut in allocation.\",\n",
              " 'Budgetary support plunged from ₹4,807.40 crore to ₹2,671.33 crore for the upcoming financial year, falling significantly short of expectations for a hike to ₹10,000-12,000 crore.',\n",
              " 'Read More“India assumed G20 Presidency during very difficult times for the world.',\n",
              " 'The global economy was going through high inflation, high interest rates, low growth, very high public debt, low trade growth, and climate challenges.',\n",
              " 'The pandemic had led to a crisis of food, fertilizer, fuel and finances for the world, while India successfully navigated its way.',\n",
              " 'The country showed the way forward and built consensus on solutions for those global problems,\" Union Finance Minister Nirmala Sitharaman said in her budget day speech.',\n",
              " '“India assumed G20 Presidency during very difficult times for the world.',\n",
              " 'The global economy was going through high inflation, high interest rates, low growth, very high public debt, low trade growth, and climate challenges.',\n",
              " 'The pandemic had led to a crisis of food, fertilizer, fuel and finances for the world, while India successfully navigated its way.',\n",
              " 'The country showed the way forward and built consensus on solutions for those global problems,\" Union Finance Minister Nirmala Sitharaman said in her budget day speech.',\n",
              " '“As this was an interim budget, the government did not make any major announcements for the sports sector and the total budget for sports has remained similar to last year with an allocation of 3442 crores for Financial Year 2024-25 compared to 3397 crores in Financial Year 2023-24,\" Aditya Reddy, Co-Founder & CEO of Gamepoint said.',\n",
              " '“PM Narendra Modi during the inauguration of the Khelo India Youth Games in Chennai stated that the government has resolved to make the country an important centre of the global sports ecosystem.',\n",
              " 'He also highlighted that sports was not just limited to the field, but also presents a huge economic opportunity, he said the country’s sports-related industry will be worth at least ₹1 lakh crore in a few years,\" he said.',\n",
              " '\"Given the positive approach of the government towards sports, we hope that post the lok sabha elections, the new government will increase the budget allocation and announce new measures for the growth of Indian sports,\" he added.',\n",
              " '“As this was an interim budget, the government did not make any major announcements for the sports sector and the total budget for sports has remained similar to last year with an allocation of 3442 crores for Financial Year 2024-25 compared to 3397 crores in Financial Year 2023-24,\" Aditya Reddy, Co-Founder & CEO of Gamepoint said.',\n",
              " '“PM Narendra Modi during the inauguration of the Khelo India Youth Games in Chennai stated that the government has resolved to make the country an important centre of the global sports ecosystem.',\n",
              " 'He also highlighted that sports was not just limited to the field, but also presents a huge economic opportunity, he said the country’s sports-related industry will be worth at least ₹1 lakh crore in a few years,\" he said.',\n",
              " '\"Given the positive approach of the government towards sports, we hope that post the lok sabha elections, the new government will increase the budget allocation and announce new measures for the growth of Indian sports,\" he added.',\n",
              " 'The government is set to increase the subsidy for rooftop solar installations to about 60% under the new Pradhan Mantri Suryoday Yojana, union minister for new and renewable energy R.K. Singh said on Friday.Currently, the government provides a 40% subsidy for rooftop solar installations.',\n",
              " 'Read MoreThe government is set to increase the subsidy for rooftop solar installations to about 60% under the new Pradhan Mantri Suryoday Yojana, union minister for new and renewable energy R.K. Singh said on Friday.Currently, the government provides a 40% subsidy for rooftop solar installations.',\n",
              " \"Read More“It's genuinely exciting to learn about India's new plan outlined in this interim budget, focusing on building infrastructure and leveraging more technology.\",\n",
              " \"It's like laying the foundation for the country's growth, be it through cutting-edge tech, physical development, or improved connections.\",\n",
              " 'What\\'s particularly commendable is the government\\'s trust in the younger generation to bring in fresh tech ideas and innovations, recognizing the potential they hold for positive change,\" Ajay Chaurasia, Vice President, RupeeRedee said.',\n",
              " '\"Moreover, the provision of interest-free loans for up to 50 years is a significant support system for individuals and businesses, allowing them to kickstart and sustain their endeavors.',\n",
              " 'This move has the potential to not only create more jobs but also foster the growth of entrepreneurship, enabling people to build and sustain their own businesses.',\n",
              " 'These initiatives seem to be crafting a conducive environment for growth, fostering new ideas, and empowering individuals.',\n",
              " 'It\\'ll be fascinating to witness how these plans unfold and contribute positively to different regions of the country in the years to come,\" he added.',\n",
              " \"“It's genuinely exciting to learn about India's new plan outlined in this interim budget, focusing on building infrastructure and leveraging more technology.\",\n",
              " \"It's like laying the foundation for the country's growth, be it through cutting-edge tech, physical development, or improved connections.\",\n",
              " 'What\\'s particularly commendable is the government\\'s trust in the younger generation to bring in fresh tech ideas and innovations, recognizing the potential they hold for positive change,\" Ajay Chaurasia, Vice President, RupeeRedee said.',\n",
              " '\"Moreover, the provision of interest-free loans for up to 50 years is a significant support system for individuals and businesses, allowing them to kickstart and sustain their endeavors.',\n",
              " 'This move has the potential to not only create more jobs but also foster the growth of entrepreneurship, enabling people to build and sustain their own businesses.',\n",
              " 'These initiatives seem to be crafting a conducive environment for growth, fostering new ideas, and empowering individuals.',\n",
              " 'It\\'ll be fascinating to witness how these plans unfold and contribute positively to different regions of the country in the years to come,\" he added.',\n",
              " 'Budget 2024 Key Highlights LIVE: Prime Minister Narendra Modi on Saturday said that the interim budget 2024 is dedicated to the youth of the country as the government is going to spend more than ₹11 lakh crore on rail, road, and modern infrastructure.The Prime Minister made these remarks during a virtual address at the launch of Pali Sansad Khel Mahakumbh.',\n",
              " 'The event was being organized by BJP MP from Pali, PP Chaudhary.',\n",
              " 'Read MoreBudget 2024 Key Highlights LIVE: Prime Minister Narendra Modi on Saturday said that the interim budget 2024 is dedicated to the youth of the country as the government is going to spend more than ₹11 lakh crore on rail, road, and modern infrastructure.The Prime Minister made these remarks during a virtual address at the launch of Pali Sansad Khel Mahakumbh.',\n",
              " 'The event was being organized by BJP MP from Pali, PP Chaudhary.',\n",
              " \"Read More“The Union Budget 2024 shines a light on India's future by investing in new ITIs, IITs, IIITs, IIMs, AIIMS, and universities.\",\n",
              " 'I truly believe that empowering our youth requires blending the strengths of traditional institutions with the innovative approaches of edtech platforms like HeyCoach.',\n",
              " 'This combination nurtures not only academic excellence but also vital skills such as emotional intelligence, creativity, and adaptability.',\n",
              " 'Post-academia, the focus should pivot towards nurturing problem-solving abilities and resilience to confront future challenges head-on,\" Pratik Kapasi, Founder of HeyCoach said.',\n",
              " '\"Edtech platforms extend beyond a supplementary role; they act as pivotal agents of transformation.',\n",
              " 'They democratize access to the best education, customize learning to meet individual needs, and gear students up for real-world challenges.',\n",
              " 'These are the attributes that will sculpt the leaders, innovators, and thinkers of the future.',\n",
              " 'In Conclusion, the role of education is about cultivating a society that values critical thinking, embraces diversity, and is committed to solving complex global issues.',\n",
              " 'Institutions and ed-tech platforms must work in concert to empower the youth, not just as job seekers, but as job creators, thought leaders, and catalysts for change,\" he added.',\n",
              " \"“The Union Budget 2024 shines a light on India's future by investing in new ITIs, IITs, IIITs, IIMs, AIIMS, and universities.\",\n",
              " 'I truly believe that empowering our youth requires blending the strengths of traditional institutions with the innovative approaches of edtech platforms like HeyCoach.',\n",
              " 'This combination nurtures not only academic excellence but also vital skills such as emotional intelligence, creativity, and adaptability.',\n",
              " 'Post-academia, the focus should pivot towards nurturing problem-solving abilities and resilience to confront future challenges head-on,\" Pratik Kapasi, Founder of HeyCoach said.',\n",
              " '\"Edtech platforms extend beyond a supplementary role; they act as pivotal agents of transformation.',\n",
              " 'They democratize access to the best education, customize learning to meet individual needs, and gear students up for real-world challenges.',\n",
              " 'These are the attributes that will sculpt the leaders, innovators, and thinkers of the future.',\n",
              " 'In Conclusion, the role of education is about cultivating a society that values critical thinking, embraces diversity, and is committed to solving complex global issues.',\n",
              " 'Institutions and ed-tech platforms must work in concert to empower the youth, not just as job seekers, but as job creators, thought leaders, and catalysts for change,\" he added.',\n",
              " '“The divestment targets have been missed once again and FY25 budget estimates have also been kept at a conservative 50k crore only.',\n",
              " 'The underachievement is understandable as there was no revenue pressure and with the shortfall too, the government has estimated to better the fiscal deficit at 5.8%.',\n",
              " 'Given that the new government will present its full budget in July and the divestments take preparation time, the government has made conservative estimates.',\n",
              " 'The government may not need more proceed from this line in next year too as the final dividend proceeds for FY25 from public sector enterprises are also likely to be significantly higher next year as those will be accounted for in FY25,\" Ranen Banerjee, Partner and Leader Economic Advisory, PwC India said.',\n",
              " '“The divestment targets have been missed once again and FY25 budget estimates have also been kept at a conservative 50k crore only.',\n",
              " 'The underachievement is understandable as there was no revenue pressure and with the shortfall too, the government has estimated to better the fiscal deficit at 5.8%.',\n",
              " 'Given that the new government will present its full budget in July and the divestments take preparation time, the government has made conservative estimates.',\n",
              " 'The government may not need more proceed from this line in next year too as the final dividend proceeds for FY25 from public sector enterprises are also likely to be significantly higher next year as those will be accounted for in FY25,\" Ranen Banerjee, Partner and Leader Economic Advisory, PwC India said.',\n",
              " \"“Last year, we witnessed a ₹300 crore increase in sports allocations, which contributed to India's success in the Asian and Para-Asian Games.\",\n",
              " 'The government\\'s continued commitment is evident in the latest budget, with a total allocation of ₹3442 crores, which reflects a significant increase from the previous year\\'s budget.\"',\n",
              " 'Tenzing Niyogi, CEO and League Commissioner of Ultimate Kho Kho said.',\n",
              " '\"The increased allocations not only boost the morale of our athletes but also serve as a testament to the government\\'s vision for developing and nurturing sporting talent.',\n",
              " 'As India gears up for the upcoming Paris Olympics, this heightened financial support will pave the way for a promising era for sports in the country,\" Tenzing added.',\n",
              " \"“Last year, we witnessed a ₹300 crore increase in sports allocations, which contributed to India's success in the Asian and Para-Asian Games.\",\n",
              " 'The government\\'s continued commitment is evident in the latest budget, with a total allocation of ₹3442 crores, which reflects a significant increase from the previous year\\'s budget.\"',\n",
              " 'Tenzing Niyogi, CEO and League Commissioner of Ultimate Kho Kho said.',\n",
              " '\"The increased allocations not only boost the morale of our athletes but also serve as a testament to the government\\'s vision for developing and nurturing sporting talent.',\n",
              " 'As India gears up for the upcoming Paris Olympics, this heightened financial support will pave the way for a promising era for sports in the country,\" Tenzing added.',\n",
              " '“The thriving economic system has undoubtedly placed us as a “hub for business and conference tourism\" where opportunities like demand for hospitality infrastructure and allied services can be a huge development but has also elevated the aspirations of our middle-income class to discover the sector.',\n",
              " 'Recognizing the symbiotic interconnection between tourism and local entrepreneurship, we intend to unlock the opportunities for our citizens.',\n",
              " 'Moreover, our commitment to offering dignified living spaces takes center stage with the release of a groundbreaking scheme,\" Mohit Jajoo, CEO & Director of Shubhashish Homes said.',\n",
              " '“Targeting deserving sections of the middle-income class dwelling in rented houses, slums, chawls, and unauthorized colonies, we empower them to turn the key to their dream houses.',\n",
              " 'This initiative not only addresses housing challenges but propels economic increase through growing a ripple effect inside the real estate sector.',\n",
              " 'It\\'s no longer about building houses; it is about constructing a foundation for a brighter and more inclusive community for all,\" he added.',\n",
              " '“The thriving economic system has undoubtedly placed us as a “hub for business and conference tourism\" where opportunities like demand for hospitality infrastructure and allied services can be a huge development but has also elevated the aspirations of our middle-income class to discover the sector.',\n",
              " 'Recognizing the symbiotic interconnection between tourism and local entrepreneurship, we intend to unlock the opportunities for our citizens.',\n",
              " 'Moreover, our commitment to offering dignified living spaces takes center stage with the release of a groundbreaking scheme,\" Mohit Jajoo, CEO & Director of Shubhashish Homes said.',\n",
              " '“Targeting deserving sections of the middle-income class dwelling in rented houses, slums, chawls, and unauthorized colonies, we empower them to turn the key to their dream houses.',\n",
              " 'This initiative not only addresses housing challenges but propels economic increase through growing a ripple effect inside the real estate sector.',\n",
              " 'It\\'s no longer about building houses; it is about constructing a foundation for a brighter and more inclusive community for all,\" he added.',\n",
              " \"“The substantial allocation in this year's budget not just for the sports sector but also for Khelo India will play a pivotal role with regard to grassroots development.\",\n",
              " 'This support for our athletes across all sporting disciplines will facilitate more participation and lead to more medals at the Olympics and other international tournaments,\" Suhail Chandhok, CEO, U Mumba said.',\n",
              " 'As mentioned by Finance Minister Nirmala Sitharaman, Indian athletes have been making their presence felt on the International stage and that is a significant indication of our country becoming a sporting powerhouse.',\n",
              " 'Our upGrad Mumba Masters’ athletes Vidit Gujrathi, Harika Dronavalli, and Koneru Humpy securing Medals at last year’s Asian Games 2022 have brought immense pride to Indian chess, with Vidit also going on to secure a place in the prestigious Candidates tournament,\" he added.',\n",
              " \"“The substantial allocation in this year's budget not just for the sports sector but also for Khelo India will play a pivotal role with regard to grassroots development.\",\n",
              " 'This support for our athletes across all sporting disciplines will facilitate more participation and lead to more medals at the Olympics and other international tournaments,\" Suhail Chandhok, CEO, U Mumba said.',\n",
              " 'As mentioned by Finance Minister Nirmala Sitharaman, Indian athletes have been making their presence felt on the International stage and that is a significant indication of our country becoming a sporting powerhouse.',\n",
              " 'Our upGrad Mumba Masters’ athletes Vidit Gujrathi, Harika Dronavalli, and Koneru Humpy securing Medals at last year’s Asian Games 2022 have brought immense pride to Indian chess, with Vidit also going on to secure a place in the prestigious Candidates tournament,\" he added.',\n",
              " \"Budget 2024 Key Highlights LIVE: “The government's proactive stance towards sports through this increased allocation of funds will provide the impetus for Indian athletes to shine brightly in international competitions, contributing to the continued growth and success of the country's success on the global stage.\",\n",
              " 'With the Paris Olympics looming on the horizon, we are confident that our youth will make it the best-ever campaign for India,\" Punit Balan, Chairman & Managing Director of the Punit Balan Group said.',\n",
              " '\"Our honorable Finance Minister, Nirmala Sitharaman, acknowledging the remarkable achievements of our youth in sports, particularly in chess, reflects the bright future of the sport in our nation.',\n",
              " 'We take pride in Raunak Sadhwani, the prodigy of Balan Alaskan Knights, being one of India’s 80 Grandmasters,\" Punit added.',\n",
              " \"Budget 2024 Key Highlights LIVE: “The government's proactive stance towards sports through this increased allocation of funds will provide the impetus for Indian athletes to shine brightly in international competitions, contributing to the continued growth and success of the country's success on the global stage.\",\n",
              " 'With the Paris Olympics looming on the horizon, we are confident that our youth will make it the best-ever campaign for India,\" Punit Balan, Chairman & Managing Director of the Punit Balan Group said.',\n",
              " '\"Our honorable Finance Minister, Nirmala Sitharaman, acknowledging the remarkable achievements of our youth in sports, particularly in chess, reflects the bright future of the sport in our nation.',\n",
              " 'We take pride in Raunak Sadhwani, the prodigy of Balan Alaskan Knights, being one of India’s 80 Grandmasters,\" Punit added.',\n",
              " 'Chief Executive Officer at Worldline (India) Ramesh Narasimhan said, \"This year\\'s Budget focus on the overall MSME sector to facilitate growth and development is a welcome sign.',\n",
              " 'The priority to work towards providing timely access to credit and all-round training for MSMEs will further strengthen the ecosystem and boost innovation.',\n",
              " 'It is an opportunity for PayTech players like us to work closely with MSMEs to drive the next phase of digitization.',\n",
              " '\"Chief Executive Officer at Worldline (India) Ramesh Narasimhan said, \"This year\\'s Budget focus on the overall MSME sector to facilitate growth and development is a welcome sign.',\n",
              " 'The priority to work towards providing timely access to credit and all-round training for MSMEs will further strengthen the ecosystem and boost innovation.',\n",
              " 'It is an opportunity for PayTech players like us to work closely with MSMEs to drive the next phase of digitization.',\n",
              " '\"Director at Morningstar Investment Research India Private Limited, Mr. Kaustubh Belapurkar said, “Given the clear continued focus on fiscal prudence with estimated fiscal deficit for 2024-25 at 5.1%.',\n",
              " 'This has given a lot of cheer to the bond markets and fixed income managers will be more constructive on adding duration to their funds\"Director at Morningstar Investment Research India Private Limited, Mr. Kaustubh Belapurkar said, “Given the clear continued focus on fiscal prudence with estimated fiscal deficit for 2024-25 at 5.1%.',\n",
              " 'This has given a lot of cheer to the bond markets and fixed income managers will be more constructive on adding duration to their funds\"Founder and CVO at Repos Energy, Aditi Bhosale Walunj said, “The Government of India is taking active steps in this direction with the National Green Hydrogen Mission.',\n",
              " 'This is a progressive step towards sustained future growth as it would ensure an uninterrupted supply of clean energy to all the stakeholders.',\n",
              " 'The technological applications may also benefit us in the efficient and optimal use of currently available fuels.',\n",
              " '24/7 easy access to energy shall drive domestic production.',\n",
              " '\"Founder and CVO at Repos Energy, Aditi Bhosale Walunj said, “The Government of India is taking active steps in this direction with the National Green Hydrogen Mission.',\n",
              " 'This is a progressive step towards sustained future growth as it would ensure an uninterrupted supply of clean energy to all the stakeholders.',\n",
              " 'The technological applications may also benefit us in the efficient and optimal use of currently available fuels.',\n",
              " '24/7 easy access to energy shall drive domestic production.',\n",
              " '\"Chairman and Managing Director at Knight Frank India Mr. Shishir Baijal said, “The union budget presented .',\n",
              " '.',\n",
              " '.',\n",
              " '.',\n",
              " 'has further strengthened the government’s commitment towards long- term social and infrastructure development.',\n",
              " 'Though it is an interim budget due to the impending elections, today’s announcements by the Union Finance Minister are significant in many aspects.',\n",
              " 'The 11.1% increase in infrastructure outlay which is 3.4% of GDP will further enhance the railway, roads and logistics infrastructure of the country.',\n",
              " 'The three new economic railway corridors identified under the PM Gati Shakti program are massive projects with the potential to grow economic hubs and boost development of the tier-2 and tier-3 cities along their alignment.',\n",
              " '\"He added, \"The intention to complete 2 cr housing units in the next five years will aid the ‘Housing for All’ mission of the government.',\n",
              " 'Additionally, the proposed boost to housing for the middle-class living in sub-par accommodation is also a welcome inclusion.',\n",
              " 'We look forward to the details of this as we expect this to have great long-term ramifications.',\n",
              " 'Further, the enhanced focus on domestic tourism development will provide a fillip to the hospitality industry.',\n",
              " '\"Chairman and Managing Director at Knight Frank India Mr. Shishir Baijal said, “The union budget presented .',\n",
              " '.',\n",
              " '.',\n",
              " '.',\n",
              " 'has further strengthened the government’s commitment towards long- term social and infrastructure development.',\n",
              " 'Though it is an interim budget due to the impending elections, today’s announcements by the Union Finance Minister are significant in many aspects.',\n",
              " 'The 11.1% increase in infrastructure outlay which is 3.4% of GDP will further enhance the railway, roads and logistics infrastructure of the country.',\n",
              " 'The three new economic railway corridors identified under the PM Gati Shakti program are massive projects with the potential to grow economic hubs and boost development of the tier-2 and tier-3 cities along their alignment.',\n",
              " '\"He added, \"The intention to complete 2 cr housing units in the next five years will aid the ‘Housing for All’ mission of the government.',\n",
              " 'Additionally, the proposed boost to housing for the middle-class living in sub-par accommodation is also a welcome inclusion.',\n",
              " 'We look forward to the details of this as we expect this to have great long-term ramifications.',\n",
              " 'Further, the enhanced focus on domestic tourism development will provide a fillip to the hospitality industry.\"',\n",
              " 'Download  the App to get 14 days of unlimited access to Mint Premium absolutely free!',\n",
              " 'Download the Mint app and read premium storiesLog in to our website to save your bookmarks.',\n",
              " \"It'll just take a moment.You are just one step away from creating your watchlist!Oops!\",\n",
              " 'Looks like you have exceeded the limit to bookmark the image.',\n",
              " 'Remove some to bookmark this image.Your session has expired, please login again.You are now subscribed to our newsletters.',\n",
              " 'In case you can’t find any email from our side, please check the spam folder.This is a subscriber only feature Subscribe Now to get daily updates on WhatsApp']"
            ]
          },
          "metadata": {},
          "execution_count": 64
        }
      ]
    },
    {
      "cell_type": "code",
      "source": [
        "pip install clean-text"
      ],
      "metadata": {
        "colab": {
          "base_uri": "https://localhost:8080/"
        },
        "id": "sE6u8A5SlWSw",
        "outputId": "7d31d06f-f999-4230-ff09-d5d1883fa0cd"
      },
      "execution_count": null,
      "outputs": [
        {
          "output_type": "stream",
          "name": "stdout",
          "text": [
            "Requirement already satisfied: clean-text in /usr/local/lib/python3.10/dist-packages (0.6.0)\n",
            "Requirement already satisfied: emoji<2.0.0,>=1.0.0 in /usr/local/lib/python3.10/dist-packages (from clean-text) (1.7.0)\n",
            "Requirement already satisfied: ftfy<7.0,>=6.0 in /usr/local/lib/python3.10/dist-packages (from clean-text) (6.1.3)\n",
            "Requirement already satisfied: wcwidth<0.3.0,>=0.2.12 in /usr/local/lib/python3.10/dist-packages (from ftfy<7.0,>=6.0->clean-text) (0.2.13)\n"
          ]
        }
      ]
    },
    {
      "cell_type": "code",
      "source": [
        "\n",
        "from cleantext import clean\n",
        "cleaned_text = clean(sentences,lower = True,no_line_breaks=True,no_urls=True,no_emails=True)\n",
        "cleaned_text\n",
        "\n"
      ],
      "metadata": {
        "colab": {
          "base_uri": "https://localhost:8080/",
          "height": 105
        },
        "id": "cAwpchABltr-",
        "outputId": "5004c2bd-2ae5-44b1-e286-c5c83f10b4ce"
      },
      "execution_count": null,
      "outputs": [
        {
          "output_type": "execute_result",
          "data": {
            "text/plain": [
              "'[\\'with the \\'mantra\\' of \\'sabka saath, sabka vikas, and sabka vishwas\\' and the whole of nation approach of \"sabka prayas\", the union minister for finance and corporate affairs smt.\\', \\'nirmala sitharaman presented the interim union budget 2024-25 in parliament, today.\\', \\'the key highlights of the budget are as follows:part asocial justice\\'garib kalyan, desh ka kalyan\\'welfare of \\'annadata\\'momentum for nari shaktipm awas yojana (grameen) rooftop solarization and muft bijliayushman bharat agriculture and food processing research and innovation for catalyzing growth, employment and development infrastructurerailwaysaviation sectorgreen energytourism sectorinvestmentsreforms in the states for \\'viksit bharat\\'revised estimates (re) 2023-24budget estimates 2024-25part bdirect taxesindirect taxestax rationalization efforts over the yearsachievements in tax-payer serviceseconomy-then and now***yb/nb/snc/lp/kss/rk/pd/cnanwith the \\'mantra\\' of \\'sabka saath, sabka vikas, and sabka vishwas\\' and the whole of nation approach of \"sabka prayas\", the union minister for finance and corporate affairs smt.\\', \\'nirmala sitharaman presented the interim union budget 2024-25 in parliament, today.\\', \\'the key highlights of the budget are as follows:part asocial justice\\'garib kalyan, desh ka kalyan\\'welfare of \\'annadata\\'momentum for nari shaktipm awas yojana (grameen) rooftop solarization and muft bijliayushman bharat agriculture and food processing research and innovation for catalyzing growth, employment and development infrastructurerailwaysaviation sectorgreen energytourism sectorinvestmentsreforms in the states for \\'viksit bharat\\'revised estimates (re) 2023-24budget estimates 2024-25part bdirect taxesindirect taxestax rationalization efforts over the yearsachievements in tax-payer serviceseconomy-then and now***yb/nb/snc/lp/kss/rk/pd/cnan\\']'"
            ],
            "application/vnd.google.colaboratory.intrinsic+json": {
              "type": "string"
            }
          },
          "metadata": {},
          "execution_count": 66
        }
      ]
    },
    {
      "cell_type": "code",
      "source": [
        "import re\n",
        "original_text = cleaned_text\n",
        "cleaned_text = re.sub(r'[^a-zA-Z\\s]', ' ', original_text)\n",
        "print(\"Cleaned text:\", cleaned_text)\n"
      ],
      "metadata": {
        "colab": {
          "base_uri": "https://localhost:8080/"
        },
        "id": "H4gCp5rhlyh4",
        "outputId": "ec169cf4-8c54-422a-acaa-b8c6f697c644"
      },
      "execution_count": null,
      "outputs": [
        {
          "output_type": "stream",
          "name": "stdout",
          "text": [
            "Cleaned text:   with the  mantra  of  sabka saath  sabka vikas  and sabka vishwas  and the whole of nation approach of  sabka prayas   the union minister for finance and corporate affairs smt     nirmala sitharaman presented the interim union budget         in parliament  today     the key highlights of the budget are as follows part asocial justice garib kalyan  desh ka kalyan welfare of  annadata momentum for nari shaktipm awas yojana  grameen  rooftop solarization and muft bijliayushman bharat agriculture and food processing research and innovation for catalyzing growth  employment and development infrastructurerailwaysaviation sectorgreen energytourism sectorinvestmentsreforms in the states for  viksit bharat revised estimates  re         budget estimates        part bdirect taxesindirect taxestax rationalization efforts over the yearsachievements in tax payer serviceseconomy then and now   yb nb snc lp kss rk pd cnanwith the  mantra  of  sabka saath  sabka vikas  and sabka vishwas  and the whole of nation approach of  sabka prayas   the union minister for finance and corporate affairs smt     nirmala sitharaman presented the interim union budget         in parliament  today     the key highlights of the budget are as follows part asocial justice garib kalyan  desh ka kalyan welfare of  annadata momentum for nari shaktipm awas yojana  grameen  rooftop solarization and muft bijliayushman bharat agriculture and food processing research and innovation for catalyzing growth  employment and development infrastructurerailwaysaviation sectorgreen energytourism sectorinvestmentsreforms in the states for  viksit bharat revised estimates  re         budget estimates        part bdirect taxesindirect taxestax rationalization efforts over the yearsachievements in tax payer serviceseconomy then and now   yb nb snc lp kss rk pd cnan  \n"
          ]
        }
      ]
    },
    {
      "cell_type": "markdown",
      "source": [
        "# importing pipeline"
      ],
      "metadata": {
        "id": "LlkfKRPO3o0Q"
      }
    },
    {
      "cell_type": "markdown",
      "source": [
        "# Model selection For summarization"
      ],
      "metadata": {
        "id": "VE_3uIV03zNf"
      }
    },
    {
      "cell_type": "code",
      "source": [
        "from transformers import pipeline"
      ],
      "metadata": {
        "id": "beOm7mfWl1My"
      },
      "execution_count": null,
      "outputs": []
    },
    {
      "cell_type": "code",
      "source": [
        "summarization = pipeline(\"summarization\", model = \"facebook/bart-large-cnn\")"
      ],
      "metadata": {
        "id": "lbXjVPo9l5GK"
      },
      "execution_count": null,
      "outputs": []
    },
    {
      "cell_type": "code",
      "source": [
        "#  getting summary\n",
        "ARTICLE_1 = \"Budget 2024 Key Highlights LIVE Updates: Union Finance Minister Nirmala Sitharaman presented her sixth Budget on February 1. This was an interim budget ahead of the general elections later this year. The Interim Budget 2024 was focused on youth and women empowerment, while maintaining fiscal consolidation and continuing capex. FM Sitharaman lowered down FY25 fiscal deficit target to 5.1% of the GDP. There were no changes made to the direct tax and indirect tax rates. Read the latest news on Budget 2024 with our live coverage on the Income Tax Slab, Impact on Share Market, Budget Key Highlights, Corporate Reactions, and Funny Memes.10 key takeaways from FM Sitharaman’s post-budget \"\n",
        "ARTICLE_2 = \" The 11 per cent increase in the capital expenditure by the government will definitely accelerate growth and prospective buyers' outlook towards the real estate sector is expected to be on a continued upward trajectory as the government has stabilized the income tax slab, Sanjay Sharma, Director of SKA Group, said.The government's stance regarding Namo Bharat is very positive, which would directly benefit Noida, Greater Noida and other cities. Along with this, the expansion of the UDAN scheme in Tier 2 and 3 will accelerate the development of these regions as well,The interim budget 2024 indicated that the government is eager to promote widespread growth with the middle-class housing programme, Himanshu Garg, Director, RG Group, said.The government's emphasis on affordable and urban housing is demonstrated by the significant 66 per cent increase in funding, amounting to ₹79,000 crore for the Pradhan Mantri Awas Yojana scheme in FY24,\""
      ],
      "metadata": {
        "id": "2nBCht1Dl_cm"
      },
      "execution_count": null,
      "outputs": []
    },
    {
      "cell_type": "markdown",
      "source": [
        "# Printing Summarized Text"
      ],
      "metadata": {
        "id": "PELYpnXN34cA"
      }
    },
    {
      "cell_type": "code",
      "source": [
        "print(summarization(ARTICLE_1, max_length=130, min_length=30, do_sample=False))"
      ],
      "metadata": {
        "colab": {
          "base_uri": "https://localhost:8080/"
        },
        "id": "Xlg7q1M1uf2l",
        "outputId": "4c23ac7d-5988-4efb-96ee-9ad515004bbf"
      },
      "execution_count": null,
      "outputs": [
        {
          "output_type": "stream",
          "name": "stdout",
          "text": [
            "[{'summary_text': 'The Interim Budget 2024 was focused on youth and women empowerment. FM Sitharaman lowered down FY25 fiscal deficit target to 5.1% of the GDP. There were no changes made to the direct tax and indirect tax rates.'}]\n"
          ]
        }
      ]
    },
    {
      "cell_type": "code",
      "source": [
        "print(summarization(ARTICLE_2, max_length=130, min_length=30, do_sample=False))"
      ],
      "metadata": {
        "colab": {
          "base_uri": "https://localhost:8080/"
        },
        "id": "EgA-NLLimdih",
        "outputId": "3ab2c4a3-7118-42a8-86c6-9b91b52ee176"
      },
      "execution_count": null,
      "outputs": [
        {
          "output_type": "stream",
          "name": "stdout",
          "text": [
            "[{'summary_text': \"The government's stance regarding Namo Bharat is very positive, which would directly benefit Noida, Greater Noida and other cities. The expansion of the UDAN scheme in Tier 2 and 3 will accelerate the development of these regions.\"}]\n"
          ]
        }
      ]
    },
    {
      "cell_type": "code",
      "source": [],
      "metadata": {
        "id": "sHM8L818nPDt"
      },
      "execution_count": null,
      "outputs": []
    },
    {
      "cell_type": "code",
      "source": [],
      "metadata": {
        "id": "0P-HUTyEwPWX"
      },
      "execution_count": null,
      "outputs": []
    },
    {
      "cell_type": "markdown",
      "source": [
        "# Sentiment - Analysis"
      ],
      "metadata": {
        "id": "UproZ4YP4Psi"
      }
    },
    {
      "cell_type": "code",
      "source": [
        "ARTICLE_3=\"The online skill gaming has been on an explosive trajectory these last few years. With the right regulatory support, this sector has the potential to not only create a thriving ecosystem for gamers and game developers but also to showcase the prowess of Made in India games on the global stage, said Namratha Swamy, COO, MPL.The industry eagerly anticipates long-term clarity and a progressive taxation regime from the upcoming financial budget. This clarity is crucial for driving the next phase of growth, as it will not only provide a conducive environment for businesses but also revive investor confidence in the sector. A progressive taxation regime will further incentivize investment, leading to the creation of more job opportunities for our talented youth,\""
      ],
      "metadata": {
        "id": "ZD5X6CfjwPhS"
      },
      "execution_count": null,
      "outputs": []
    },
    {
      "cell_type": "code",
      "source": [
        "from transformers import AutoTokenizer, pipeline\n",
        "from transformers import AutoModel\n",
        "tokenizer = AutoTokenizer.from_pretrained(\"lxyuan/distilbert-base-multilingual-cased-sentiments-student\")\n",
        "model = AutoModel.from_pretrained(\"lxyuan/distilbert-base-multilingual-cased-sentiments-student\")\n"
      ],
      "metadata": {
        "id": "6xNahIj-wPkv"
      },
      "execution_count": null,
      "outputs": []
    },
    {
      "cell_type": "code",
      "source": [
        "from transformers import pipeline\n",
        "\n",
        "sentiment_classifier = pipeline(\n",
        "    model=\"lxyuan/distilbert-base-multilingual-cased-sentiments-student\",\n",
        "    return_all_scores=True\n",
        ")\n",
        "\n",
        "#sentiment on article 2\n",
        "sentiment_classifier (ARTICLE_2)\n"
      ],
      "metadata": {
        "colab": {
          "base_uri": "https://localhost:8080/"
        },
        "id": "All3pW86yjD6",
        "outputId": "bc5d1631-f390-4d00-f8bd-50a2ef1820f5"
      },
      "execution_count": null,
      "outputs": [
        {
          "output_type": "execute_result",
          "data": {
            "text/plain": [
              "[[{'label': 'positive', 'score': 0.7638396620750427},\n",
              "  {'label': 'neutral', 'score': 0.0785575807094574},\n",
              "  {'label': 'negative', 'score': 0.1576026827096939}]]"
            ]
          },
          "metadata": {},
          "execution_count": 81
        }
      ]
    },
    {
      "cell_type": "code",
      "source": [
        "sentiment_classifier (ARTICLE_3)"
      ],
      "metadata": {
        "colab": {
          "base_uri": "https://localhost:8080/"
        },
        "id": "M6DCOMUUy73i",
        "outputId": "5f9e39f1-afa5-442d-e605-1348e0dfc36b"
      },
      "execution_count": null,
      "outputs": [
        {
          "output_type": "execute_result",
          "data": {
            "text/plain": [
              "[[{'label': 'positive', 'score': 0.5843749046325684},\n",
              "  {'label': 'neutral', 'score': 0.11368261277675629},\n",
              "  {'label': 'negative', 'score': 0.30194246768951416}]]"
            ]
          },
          "metadata": {},
          "execution_count": 80
        }
      ]
    },
    {
      "cell_type": "code",
      "source": [],
      "metadata": {
        "id": "oNBidYAp2Zvs"
      },
      "execution_count": null,
      "outputs": []
    },
    {
      "cell_type": "code",
      "source": [
        "#Feature Extraction Through Hugging Face model"
      ],
      "metadata": {
        "id": "NtI5WZrY5LQb"
      },
      "execution_count": null,
      "outputs": []
    },
    {
      "cell_type": "code",
      "source": [
        "import torch\n",
        "from transformers import AutoTokenizer, AutoModel\n",
        "\n",
        "tokenizer = AutoTokenizer.from_pretrained('facebook/contriever-msmarco')\n",
        "model = AutoModel.from_pretrained('facebook/contriever-msmarco')\n",
        "\n",
        "sentences = ARTICLE_1\n",
        "# Apply tokenizer\n",
        "inputs = tokenizer(sentences, padding=True, truncation=True, return_tensors='pt')\n",
        "\n",
        "# Compute token embeddings\n",
        "outputs = model(**inputs)\n",
        "\n",
        "# Mean pooling\n",
        "def mean_pooling(token_embeddings, mask):\n",
        "    token_embeddings = token_embeddings.masked_fill(~mask[..., None].bool(), 0.)\n",
        "    sentence_embeddings = token_embeddings.sum(dim=1) / mask.sum(dim=1)[..., None]\n",
        "    return sentence_embeddings\n",
        "embeddings = mean_pooling(outputs[0], inputs['attention_mask'])\n"
      ],
      "metadata": {
        "id": "CROYBoBN5LUB"
      },
      "execution_count": null,
      "outputs": []
    },
    {
      "cell_type": "code",
      "source": [
        "print(embeddings)"
      ],
      "metadata": {
        "colab": {
          "base_uri": "https://localhost:8080/"
        },
        "id": "mc2zDAGA5MAW",
        "outputId": "0990eb19-bb48-448e-ec04-ef9d1963822e"
      },
      "execution_count": null,
      "outputs": [
        {
          "output_type": "stream",
          "name": "stdout",
          "text": [
            "tensor([[-3.1828e-02,  2.5050e-02, -3.1269e-02, -6.4149e-02, -4.6191e-02,\n",
            "         -3.7553e-02,  1.0353e-01, -2.3191e-02,  4.1871e-02,  1.0487e-01,\n",
            "          5.4084e-02,  4.6111e-02, -3.8667e-02,  9.5951e-02,  1.0158e-04,\n",
            "          7.4826e-02, -4.2927e-02,  1.0282e-01,  2.9395e-02, -5.4012e-03,\n",
            "         -9.5175e-02, -4.0368e-02, -6.3525e-02, -2.3405e-02,  1.6134e-01,\n",
            "         -3.5394e-02, -2.7236e-02, -3.8174e-03,  1.1303e-01, -2.3309e-02,\n",
            "         -2.8047e-02, -5.0424e-03, -5.6620e-03, -7.9555e-02,  3.8781e-03,\n",
            "          4.4112e-02, -6.4767e-02,  8.7497e-02,  4.8158e-02, -3.6518e-02,\n",
            "         -2.9879e-02, -3.6059e-02, -3.3979e-02, -8.6695e-02, -1.4150e-01,\n",
            "          2.7426e-02, -1.8276e-02,  6.3875e-02, -2.9535e-02,  2.2323e-02,\n",
            "         -1.4880e-01,  1.6750e-02,  7.0554e-02,  3.1835e-02, -8.9382e-02,\n",
            "         -2.7403e-02, -2.0142e-02,  2.9978e-02,  2.5055e-02,  3.4078e-02,\n",
            "          4.0765e-03, -4.2284e-02,  1.3000e-01, -7.0381e-04, -1.0120e-01,\n",
            "         -1.1554e-01, -1.2707e-02, -1.0430e-01, -7.7887e-02,  6.7884e-02,\n",
            "          7.7162e-03, -5.5236e-02,  1.9152e-02,  2.2267e-02,  1.8588e-02,\n",
            "          7.8721e-02, -6.2654e-02,  1.7785e-02,  8.5727e-02,  1.4813e-02,\n",
            "          1.0631e-01, -4.0320e-02, -8.8187e-02, -1.2630e-01,  3.0839e-02,\n",
            "         -6.9271e-03,  3.0244e-02,  2.0656e-02, -1.6465e-02, -4.5483e-02,\n",
            "         -4.0000e-02, -8.1973e-03,  2.0526e-03,  1.2870e-02,  4.0042e-02,\n",
            "          6.6104e-02,  5.5468e-02, -9.4113e-02, -7.9465e-02,  9.3124e-02,\n",
            "         -6.1462e-02, -8.9070e-03,  8.1071e-02, -3.0623e-02,  5.6464e-02,\n",
            "          2.7218e-02, -3.9895e-02, -1.0194e-01, -1.8829e-02, -4.5081e-02,\n",
            "          3.0948e-03, -3.1468e-02, -8.4021e-02,  3.5420e-03, -5.4192e-02,\n",
            "         -7.3237e-03,  4.1098e-02, -5.0918e-02,  1.6266e-02,  9.3409e-02,\n",
            "         -1.4139e-02, -7.8820e-02,  3.0536e-02, -2.5763e-02, -1.6802e-02,\n",
            "          2.1123e-02, -2.2755e-02,  5.7538e-02,  5.3746e-02, -2.9404e-02,\n",
            "         -1.4765e-02,  2.1900e-02, -3.2541e-02,  6.3406e-02,  5.4233e-02,\n",
            "         -3.5326e-02,  2.6682e-02,  1.0003e-01,  9.2405e-02, -2.5141e-02,\n",
            "          3.1226e-02,  2.3835e-02, -8.3946e-02, -6.9453e-02, -5.8552e-02,\n",
            "          8.6070e-03,  2.2593e-02,  1.0037e-01, -4.9309e-02,  1.3772e-02,\n",
            "          1.0500e-02,  3.2690e-03,  5.9992e-02, -4.4680e-02, -1.3287e-01,\n",
            "         -7.4560e-02, -3.9046e-02, -6.2475e-02, -4.5809e-02, -7.2271e-02,\n",
            "          3.4342e-02, -8.1709e-02, -4.7416e-02, -7.3139e-02,  5.2206e-02,\n",
            "         -6.5674e-02, -1.2182e-01, -6.6120e-02,  1.0086e-01,  2.0960e-02,\n",
            "          1.2550e-01, -1.2010e-02, -8.0659e-02, -2.4136e-02,  1.8502e-04,\n",
            "          8.8387e-02, -4.0351e-02, -5.3610e-03,  9.3822e-02,  2.1631e-02,\n",
            "         -7.5817e-02, -6.9898e-02,  1.2405e-01, -6.8858e-02, -4.8177e-02,\n",
            "         -4.3433e-02, -9.0037e-02, -7.3394e-02, -9.7437e-02,  3.6041e-02,\n",
            "         -9.6805e-02, -5.3277e-02,  3.1865e-02,  2.6265e-02,  7.7835e-02,\n",
            "         -5.4383e-02,  2.1384e-05, -8.5762e-03,  1.8687e-02,  7.7773e-02,\n",
            "         -8.0839e-02,  6.1644e-03,  3.8749e-02,  6.0331e-02, -4.5690e-03,\n",
            "         -4.3274e-02, -2.9891e-02, -4.4535e-02, -9.9770e-02,  3.1787e-02,\n",
            "         -7.8131e-02,  1.3993e-01,  7.1854e-02,  2.6865e-02, -8.3409e-02,\n",
            "         -8.3559e-02,  2.5024e-02, -1.3052e-02, -7.2930e-02,  2.0137e-02,\n",
            "         -9.2280e-03,  3.0277e-02, -5.9674e-03,  6.2202e-02, -4.3053e-02,\n",
            "          2.4235e-02, -7.8507e-02,  6.2208e-02, -2.8114e-03, -7.1342e-03,\n",
            "         -8.8829e-02,  1.3580e-01, -4.6561e-02,  1.1136e-01,  2.5196e-02,\n",
            "          2.0664e-02, -8.3268e-02,  2.9330e-02, -1.6872e-01, -5.3924e-02,\n",
            "          1.2114e-01, -3.3854e-02,  4.4918e-02, -8.8947e-03,  7.5917e-02,\n",
            "         -5.2372e-02,  6.6977e-02, -1.9053e-02,  1.5765e-02,  4.3541e-02,\n",
            "         -1.0034e-01,  6.6752e-02, -4.9386e-02,  4.9237e-02,  1.8978e-03,\n",
            "         -2.8389e-02,  6.7089e-03,  1.2302e-01, -1.6268e-02,  9.2242e-02,\n",
            "          4.7386e-02,  2.5138e-02,  2.2746e-04,  5.4821e-02, -5.4119e-02,\n",
            "         -3.5753e-03,  1.9459e-02, -1.0248e-01, -8.6396e-02,  2.8844e-02,\n",
            "         -7.2191e-02, -6.7423e-03,  1.5511e-02, -5.0177e-01,  1.8013e-02,\n",
            "         -2.2014e-02,  4.1429e-02, -7.2568e-02,  2.4133e-04, -4.3540e-02,\n",
            "         -8.4217e-02, -7.3480e-02,  2.6356e-02,  3.2162e-03, -2.6478e-02,\n",
            "         -1.9662e-02,  7.6464e-02, -3.4663e-02,  3.1540e-02,  3.5139e-02,\n",
            "         -5.3990e-02, -1.2418e-02,  6.5063e-03, -3.4472e-02, -2.8228e-02,\n",
            "          1.0812e-01,  3.9387e-02, -2.3799e-03, -1.1511e-01, -1.9215e-01,\n",
            "          6.3629e-02, -1.4052e-02,  2.8505e-02, -2.6277e-02, -5.6532e-02,\n",
            "          3.9413e-02, -2.2814e-02, -3.9472e-02, -6.3320e-02,  1.0547e-02,\n",
            "         -5.9022e-02, -2.7032e-02,  3.0447e-02, -7.5886e-02, -5.4652e-02,\n",
            "         -5.4745e-02, -4.2285e-02,  4.2693e-02, -4.8552e-02,  6.1173e-02,\n",
            "         -9.4672e-03, -5.6818e-03,  1.0999e-01,  7.7496e-02,  5.1700e-02,\n",
            "         -1.0423e-01,  3.2456e-02,  8.1026e-02, -1.4939e-02,  6.3254e-02,\n",
            "          1.0510e-01, -1.5849e-02, -2.6893e-02, -1.5070e-01, -4.1291e-02,\n",
            "          9.0696e-02,  6.4571e-02, -4.6855e-03, -7.3525e-02,  5.8412e-02,\n",
            "          5.2568e-03, -9.8750e-02, -1.5467e-01,  3.0421e-02,  9.7647e-02,\n",
            "         -8.1117e-02,  6.4980e-02, -5.3659e-02,  1.6525e-02, -3.5217e-02,\n",
            "         -7.9380e-02,  4.8797e-02,  5.9728e-02,  2.2778e-02, -8.8036e-02,\n",
            "          4.9134e-02,  4.8213e-02, -2.9631e-02, -6.1794e-02, -7.8652e-03,\n",
            "         -6.0225e-02, -8.8424e-02,  1.4156e-02,  4.5335e-02, -2.0196e-01,\n",
            "          1.6036e-02, -1.5928e-02, -1.4317e-02,  8.5691e-02,  4.5075e-02,\n",
            "          3.2091e-02,  3.2827e-03, -4.3373e-02, -3.8124e-02,  6.3426e-02,\n",
            "          1.5519e-02,  5.5652e-02, -3.3283e-02, -8.9682e-02, -5.5192e-02,\n",
            "         -4.8970e-02, -1.1890e-02,  3.1097e-02, -1.2696e-02,  5.8673e-02,\n",
            "          4.1143e-02,  3.5139e-03,  2.2959e-02, -7.4008e-02, -1.0394e-01,\n",
            "          2.5753e-02,  3.7725e-02, -3.4068e-02, -3.7611e-02, -5.1456e-02,\n",
            "         -4.0643e-02,  6.3251e-03, -6.2045e-02, -3.1078e-02,  6.9000e-02,\n",
            "         -5.3565e-03, -1.9617e-02,  1.7044e-02,  1.2646e-01,  1.9816e-02,\n",
            "          2.6013e-02, -7.2344e-02, -8.0223e-02,  2.6057e-02,  3.8011e-02,\n",
            "          1.1824e-01,  2.0786e-02,  7.6181e-03,  2.6109e-02, -3.4855e-02,\n",
            "          8.5327e-02, -6.3760e-02,  3.2792e-02, -5.9591e-02, -1.6050e-02,\n",
            "         -1.4498e-02, -1.3034e-01, -6.0652e-02, -8.4316e-02, -1.4430e-02,\n",
            "         -8.5989e-02, -3.1588e-02,  8.4049e-02, -4.9422e-02, -4.3571e-02,\n",
            "          8.7912e-02, -3.8244e-03,  2.0652e-02,  2.8683e-02, -9.6991e-02,\n",
            "          7.9930e-02, -4.5205e-02, -1.8663e-02, -1.0194e-01, -2.6299e-02,\n",
            "          8.1265e-02,  4.2439e-02, -3.8843e-02, -4.2888e-02,  1.8200e-02,\n",
            "         -6.1123e-02,  4.2902e-02, -4.6326e-02,  1.0562e-02, -7.0012e-02,\n",
            "         -6.5632e-02,  7.5624e-02, -5.1303e-02, -6.2108e-02, -7.0241e-02,\n",
            "         -1.7475e-01,  1.0853e-01, -2.0326e-02,  2.7296e-02, -6.8090e-02,\n",
            "         -5.0734e-02, -1.4449e-01,  7.4718e-04, -9.9536e-02, -8.5158e-02,\n",
            "         -3.7447e-02,  2.2095e-02, -2.1180e-03,  2.2468e-02, -1.3496e-03,\n",
            "         -1.8419e-02, -1.2038e-02, -7.9559e-03, -8.9352e-02, -2.6895e-02,\n",
            "          3.6139e-02,  4.2710e-02, -4.0567e-02, -2.3358e-02,  3.0328e-02,\n",
            "          7.8531e-03,  8.3194e-04,  4.9847e-03,  6.4024e-02,  6.6831e-02,\n",
            "         -1.4294e-01, -6.6276e-02,  4.0276e-02,  1.2881e-01,  9.3218e-02,\n",
            "         -2.9209e-02, -3.2215e-02,  3.7444e-02,  3.3716e-02, -1.5433e-02,\n",
            "          5.9668e-02,  8.2108e-02, -1.5214e-02,  5.9136e-02,  5.1268e-02,\n",
            "         -2.7521e-02,  1.8195e-02, -1.8554e-02,  5.9366e-03,  1.1593e-02,\n",
            "         -2.0371e-02,  1.1315e-02,  2.6214e-02,  1.3554e-02, -1.5379e-02,\n",
            "         -7.1457e-02, -4.0400e-02, -7.2985e-02, -4.5791e-02, -2.5342e-02,\n",
            "          6.6155e-03, -4.4838e-02,  5.7696e-02, -4.7149e-02,  4.1878e-03,\n",
            "          4.6678e-02,  1.4615e-02, -6.7905e-02, -5.0419e-02, -5.2322e-02,\n",
            "          1.1090e-01,  2.7417e-02, -2.9722e-02, -3.0189e-03,  1.8333e-02,\n",
            "         -6.2885e-02,  5.3587e-02,  7.0371e-02,  4.4235e-02,  5.4095e-02,\n",
            "         -8.3648e-02, -3.7570e-02,  7.9576e-02,  9.5068e-02, -1.2816e-01,\n",
            "          5.4525e-02,  1.8284e-03,  6.6677e-02,  1.8949e-02, -2.4474e-02,\n",
            "         -3.6041e-03, -1.8502e-02,  9.5755e-02, -1.2698e-01,  2.7824e-02,\n",
            "         -2.4260e-02, -6.7234e-02,  1.2453e-03, -5.7674e-02,  4.2607e-02,\n",
            "          9.5641e-02, -6.6988e-02, -8.3997e-02,  5.4588e-03,  1.2392e-02,\n",
            "          9.2199e-02,  5.5701e-02, -5.3326e-02,  2.0804e-02, -6.3412e-02,\n",
            "         -1.3353e-01, -5.6432e-02, -7.7709e-03,  3.8273e-03, -1.0574e-01,\n",
            "          6.4285e-02, -4.8876e-03, -1.1702e-01, -3.5197e-02,  4.6857e-02,\n",
            "         -8.0152e-02,  8.8001e-02,  4.7606e-03,  8.5905e-03, -6.8137e-02,\n",
            "          2.0835e-02, -1.0179e-01,  2.5068e-02, -8.3072e-02, -5.7573e-02,\n",
            "         -1.8230e-02, -9.3729e-02, -1.9537e-02,  5.7585e-02, -1.3899e-02,\n",
            "          2.1830e-02, -6.4465e-02, -5.0650e-02, -1.4086e-02, -1.3078e-01,\n",
            "         -1.1486e-01,  1.2845e-02, -4.8958e-02, -5.7944e-02,  3.0222e-02,\n",
            "          7.1725e-02, -6.7542e-02,  6.6921e-02,  1.5148e-02,  9.9196e-02,\n",
            "         -1.3818e-02,  3.5649e-02, -4.4026e-03, -7.2975e-02,  5.7665e-02,\n",
            "         -2.5580e-02, -3.8570e-02, -1.4179e-02,  3.7578e-02,  1.7933e-02,\n",
            "         -7.5625e-02,  3.2469e-02,  1.2901e-02,  5.6564e-02, -6.8900e-02,\n",
            "         -2.0309e-02, -4.7094e-02, -6.4074e-02,  2.9540e-02, -2.3561e-01,\n",
            "          6.8838e-02, -9.5404e-02,  3.2617e-02,  3.4600e-03, -6.0426e-02,\n",
            "         -1.1523e-01,  3.3334e-02,  4.8021e-02,  5.3648e-02, -8.3926e-02,\n",
            "          5.6557e-02, -7.8587e-02, -7.4434e-04, -7.9309e-02, -1.2691e-02,\n",
            "         -6.8176e-02, -3.8771e-04,  2.9470e-02,  7.3600e-02,  1.1059e-01,\n",
            "          1.6248e-02, -1.4162e-01, -9.8215e-03, -5.4583e-02, -1.6022e-02,\n",
            "          1.4154e-02,  9.0292e-02,  6.6612e-02, -5.6633e-02, -6.2497e-02,\n",
            "         -6.2367e-02, -1.2179e-01,  5.8182e-02, -1.2350e-03, -3.0209e-02,\n",
            "          7.6447e-02, -2.8561e-02,  1.0783e-02, -2.4542e-02, -3.7122e-02,\n",
            "         -1.1884e-02,  5.2940e-02,  6.2893e-03, -2.1299e-02, -6.6104e-02,\n",
            "         -4.4145e-02, -1.7728e-02, -1.3337e-02, -6.0813e-02, -2.7611e-02,\n",
            "          5.7009e-02, -4.2403e-02, -5.5533e-02, -4.1250e-02,  1.3414e-01,\n",
            "         -4.1647e-03,  3.4521e-02, -5.6845e-02,  3.5901e-02, -8.2438e-02,\n",
            "         -1.0715e-01, -4.0790e-02,  2.8988e-02, -1.0852e-01,  3.5135e-02,\n",
            "          8.3647e-02,  1.1071e-02,  2.4008e-02,  4.7235e-03,  8.7704e-02,\n",
            "          2.5087e-02,  3.2794e-02,  8.8082e-02, -5.5060e-02, -6.3649e-02,\n",
            "         -1.0289e-02, -3.6863e-02,  3.3915e-02,  5.1185e-02, -7.1336e-03,\n",
            "          1.3966e-02, -1.0838e-01, -1.0346e-03, -2.5112e-03,  5.1695e-02,\n",
            "          6.0120e-02, -8.3582e-03, -3.0569e-02,  2.6437e-02,  4.7542e-02,\n",
            "         -8.3725e-03, -8.6257e-02, -7.3207e-02, -9.8734e-02,  4.4689e-02,\n",
            "         -3.6663e-02, -6.4617e-02,  1.1283e-02, -6.4734e-02, -1.1996e-02,\n",
            "          2.8614e-02,  6.4272e-02,  2.0715e-02, -4.8614e-02, -5.3656e-02,\n",
            "          6.8457e-03,  3.9542e-02,  2.5040e-02, -4.4479e-02, -3.2491e-02,\n",
            "          1.0685e-01,  6.8013e-02, -8.1544e-02,  9.5606e-02,  5.6378e-02,\n",
            "         -1.4132e-02,  3.8638e-02, -4.6399e-02,  5.7321e-03,  4.9043e-02,\n",
            "         -1.1577e-01,  3.9961e-02, -1.0304e-01,  3.4691e-02, -4.1216e-02,\n",
            "         -8.3487e-02,  6.0768e-02,  4.2409e-01,  5.0445e-02, -2.2638e-02,\n",
            "          3.1845e-02,  6.2485e-03,  2.8225e-02, -6.3685e-02, -1.4777e-02,\n",
            "          8.5423e-02,  3.1642e-02, -1.8383e-02,  6.1528e-02,  1.8269e-02,\n",
            "         -2.5488e-02, -6.6015e-02,  9.0639e-02]], grad_fn=<DivBackward0>)\n"
          ]
        }
      ]
    },
    {
      "cell_type": "code",
      "source": [],
      "metadata": {
        "id": "t7IPUTRE5jiW"
      },
      "execution_count": null,
      "outputs": []
    }
  ]
}